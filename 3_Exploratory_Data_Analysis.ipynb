{
 "cells": [
  {
   "cell_type": "markdown",
   "metadata": {},
   "source": [
    "# Continued EDA/Modelling/Predictions"
   ]
  },
  {
   "cell_type": "code",
   "execution_count": 179,
   "metadata": {},
   "outputs": [],
   "source": [
    "import pandas as pd\n",
    "import numpy as np\n",
    "import matplotlib.pyplot as plt\n",
    "import seaborn as sns\n",
    "from sklearn.linear_model import LinearRegression, LassoCV, RidgeCV\n",
    "from sklearn.metrics import mean_squared_error, r2_score, mean_absolute_error\n",
    "from sklearn.model_selection import train_test_split, cross_val_score\n",
    "from scipy.stats import stats\n",
    "import statsmodels.api as sm\n",
    "from sklearn.preprocessing import StandardScaler, PolynomialFeatures\n",
    "from PredMetric.PMetrics import PredictionMetrics\n",
    "\n",
    "plt.style.use('dark_background')"
   ]
  },
  {
   "cell_type": "code",
   "execution_count": 154,
   "metadata": {},
   "outputs": [],
   "source": [
    "train = pd.read_csv(\"./interim_datasets/train_interim.csv\")\n",
    "kaggle = pd.read_csv(\"./interim_datasets/kaggle_interim.csv\")"
   ]
  },
  {
   "cell_type": "code",
   "execution_count": 155,
   "metadata": {},
   "outputs": [],
   "source": [
    "nominal_cols = [\"MS SubClass\", \"MS Zoning\", \"Street\", \"Alley\", \"Land Contour\", \"Lot Config\", \"Neighborhood\",\"Condition 1\",\"Condition 2\",\"Bldg Type\", \"House Style\", \"Roof Style\", \"Roof Matl\", \"Exterior 1st\", \"Exterior 2nd\", \"Mas Vnr Type\", \"Foundation\", \"Heating\", \"Central Air\", \"Garage Type\", \"Misc Feature\"]\n",
    "ordinal_cols = [\"Lot Shape\", \"Utilities\", \"Land Slope\", \"Overall Qual\", \"Overall Cond\", \"Exter Qual\", \"Exter Cond\", \"Bsmt Qual\", \"Bsmt Cond\", \"Bsmt Exposure\", \"BsmtFin Type 1\", \"BsmtFin Type 2\", \"Heating QC\", \"Electrical\", \"Kitchen Qual\", \"Functional\", \"Fireplace Qu\", \"Garage Finish\", \"Garage Qual\", \"Garage Cond\", \"Paved Drive\", \"Pool QC\", \"Fence\"]\n",
    "continuous_cols = [\"Lot Frontage\", \"Lot Area\", \"Mas Vnr Area\", \"BsmtFin SF 1\", \"BsmtFin SF 2\", \"Bsmt Unf SF\", \"Total Bsmt SF\", \"1st Flr SF\", \"2nd Flr SF\", \"Low Qual Fin SF\", \"Gr Liv Area\", \"Garage Area\", \"Wood Deck SF\", \"Open Porch SF\", \"Enclosed Porch\", \"3Ssn Porch\", \"Screen Porch\", \"Pool Area\", \"Misc Val\"]\n",
    "discrete_cols = [\"Year Built\", \"Year Remod/Add\", \"Bsmt Full Bath\", \"Bsmt Half Bath\", \"Full Bath\", \"Half Bath\", \"Bedroom abvgr\", \"Kitchen abvgr\", \"totrms abvgrd\", \"Fireplaces\", \"Garage Yr Blt\", \"Garage Cars\", \"Mo Sold\" ,\"Yr Sold\"]"
   ]
  },
  {
   "cell_type": "code",
   "execution_count": 156,
   "metadata": {},
   "outputs": [],
   "source": [
    "def convert(x):\n",
    "    return x.lower().replace(\" \", \"_\")\n",
    "\n",
    "nominal_con_cols = [convert(x) for x in nominal_cols]\n",
    "ordinal_con_cols = {convert(x):{} for x in ordinal_cols}\n",
    "continuous_con_cols = [convert(x) for x in continuous_cols]\n",
    "discrete_con_cols = [convert(x) for x in discrete_cols]"
   ]
  },
  {
   "cell_type": "code",
   "execution_count": 157,
   "metadata": {},
   "outputs": [],
   "source": [
    "all_columns = list(train.filter(regex=\"dum\")) + \\\n",
    "              list(ordinal_con_cols.keys()) + continuous_con_cols + \\\n",
    "              list(train.filter(regex=\"bin\")) + \\\n",
    "              [\"totrms_abvgrd\", \"fireplaces\", \"garage_yr_blt\", \"garage_cars\", \"mo_sold\", \"yr_sold\", \"full_bath\"]"
   ]
  },
  {
   "cell_type": "code",
   "execution_count": 158,
   "metadata": {},
   "outputs": [],
   "source": [
    "all_columns.sort()"
   ]
  },
  {
   "cell_type": "code",
   "execution_count": 159,
   "metadata": {},
   "outputs": [
    {
     "data": {
      "text/plain": [
       "221"
      ]
     },
     "execution_count": 159,
     "metadata": {},
     "output_type": "execute_result"
    }
   ],
   "source": [
    "len(all_columns)"
   ]
  },
  {
   "cell_type": "code",
   "execution_count": 160,
   "metadata": {},
   "outputs": [],
   "source": [
    "revised_features = ['1st_flr_sf',\n",
    " 'bin_total_baths',\n",
    " 'bin_year_built',\n",
    " 'bsmt_cond',\n",
    " 'bsmt_exposure',\n",
    " 'bsmt_qual',\n",
    " 'bsmtfin_sf_1',\n",
    " 'dumcon_posa.1',\n",
    " 'dumext_brkface',\n",
    " 'dummis_elev',\n",
    " 'dummis_tenc',\n",
    " 'dumms__20',\n",
    " 'dumms__60',\n",
    " 'dumnei_grnhill',\n",
    " 'dumnei_noridge',\n",
    " 'dumnei_nridght',\n",
    " 'dumnei_nwames',\n",
    " 'dumnei_stonebr',\n",
    " 'dumroo_wdshngl',\n",
    " 'exter_qual',\n",
    " 'functional',\n",
    " 'garage_area',\n",
    " 'gr_liv_area',\n",
    " 'kitchen_qual',\n",
    " 'lot_area',\n",
    " 'mas_vnr_area',\n",
    " 'overall_qual',\n",
    " 'screen_porch',\n",
    " 'total_bsmt_sf']"
   ]
  },
  {
   "cell_type": "code",
   "execution_count": 161,
   "metadata": {},
   "outputs": [],
   "source": [
    "for_poly = continuous_con_cols + discrete_con_cols \n",
    "for_poly.sort()\n",
    "\n",
    "for r in revised_features:\n",
    "    if r not in for_poly:\n",
    "        for_poly.append(r)\n",
    "        \n",
    "for_poly.sort()"
   ]
  },
  {
   "cell_type": "code",
   "execution_count": 162,
   "metadata": {},
   "outputs": [],
   "source": [
    "# Instantiate PolynomialFeatures\n",
    "poly = PolynomialFeatures(include_bias=False)\n",
    "# Create X_poly\n",
    "X = train[for_poly]\n",
    "X_poly = poly.fit_transform(X)\n",
    "y = train[\"saleprice\"].map(np.log)\n",
    "X_poly = pd.DataFrame(X_poly, columns=poly.get_feature_names(for_poly))"
   ]
  },
  {
   "cell_type": "code",
   "execution_count": 163,
   "metadata": {},
   "outputs": [
    {
     "data": {
      "text/plain": [
       "Index(['1st_flr_sf', '2nd_flr_sf', '3ssn_porch', 'bedroom_abvgr',\n",
       "       'bin_total_baths', 'bin_year_built', 'bsmt_cond', 'bsmt_exposure',\n",
       "       'bsmt_full_bath', 'bsmt_half_bath',\n",
       "       ...\n",
       "       'wood_deck_sf^2', 'wood_deck_sf year_built',\n",
       "       'wood_deck_sf year_remod/add', 'wood_deck_sf yr_sold', 'year_built^2',\n",
       "       'year_built year_remod/add', 'year_built yr_sold', 'year_remod/add^2',\n",
       "       'year_remod/add yr_sold', 'yr_sold^2'],\n",
       "      dtype='object', length=1539)"
      ]
     },
     "execution_count": 163,
     "metadata": {},
     "output_type": "execute_result"
    }
   ],
   "source": [
    "X_poly.columns"
   ]
  },
  {
   "cell_type": "code",
   "execution_count": 164,
   "metadata": {},
   "outputs": [],
   "source": [
    "X_train, X_test, y_train, y_test = train_test_split(X_poly,y, random_state=42)"
   ]
  },
  {
   "cell_type": "code",
   "execution_count": 165,
   "metadata": {},
   "outputs": [],
   "source": [
    "ss = StandardScaler()"
   ]
  },
  {
   "cell_type": "code",
   "execution_count": 166,
   "metadata": {},
   "outputs": [],
   "source": [
    "X_train_sc = ss.fit_transform(X_train)\n",
    "X_test_sc = ss.transform(X_test)"
   ]
  },
  {
   "cell_type": "code",
   "execution_count": 167,
   "metadata": {},
   "outputs": [
    {
     "data": {
      "text/plain": [
       "RidgeCV(alphas=array([ 0.1,  1. , 10. ]), cv=None, fit_intercept=True,\n",
       "        gcv_mode=None, normalize=False, scoring=None, store_cv_values=False)"
      ]
     },
     "execution_count": 167,
     "metadata": {},
     "output_type": "execute_result"
    }
   ],
   "source": [
    "ridge = RidgeCV()\n",
    "ridge.fit(X_train_sc, y_train)"
   ]
  },
  {
   "cell_type": "code",
   "execution_count": 168,
   "metadata": {},
   "outputs": [
    {
     "data": {
      "text/plain": [
       "0.9554192035668554"
      ]
     },
     "execution_count": 168,
     "metadata": {},
     "output_type": "execute_result"
    }
   ],
   "source": [
    "#training score\n",
    "ridge.score(X_train_sc, y_train)"
   ]
  },
  {
   "cell_type": "code",
   "execution_count": 169,
   "metadata": {},
   "outputs": [
    {
     "data": {
      "text/plain": [
       "0.8583749979550762"
      ]
     },
     "execution_count": 169,
     "metadata": {},
     "output_type": "execute_result"
    }
   ],
   "source": [
    "ridge.score(X_test_sc, y_test)"
   ]
  },
  {
   "cell_type": "code",
   "execution_count": 170,
   "metadata": {},
   "outputs": [
    {
     "data": {
      "text/plain": [
       "0.8554735867999353"
      ]
     },
     "execution_count": 170,
     "metadata": {},
     "output_type": "execute_result"
    }
   ],
   "source": [
    "#cross val score\n",
    "cross_val_score(ridge, X_train_sc, y_train, cv = 5).mean()"
   ]
  },
  {
   "cell_type": "code",
   "execution_count": 171,
   "metadata": {},
   "outputs": [],
   "source": [
    "poly_revised_features = ['overall_qual^2',\n",
    " 'garage_area overall_qual',\n",
    " 'gr_liv_area kitchen_qual',\n",
    " '1st_flr_sf overall_qual',\n",
    " 'overall_qual total_bsmt_sf',\n",
    " 'bin_total_baths bsmt_qual',\n",
    " '1st_flr_sf total_bsmt_sf',\n",
    " '1st_flr_sf dumnei_nridght',\n",
    " 'gr_liv_area lot_area',\n",
    " 'dumnei_nridght',\n",
    " 'bsmt_cond bsmtfin_sf_1',\n",
    " 'bsmt_exposure lot_area',\n",
    " '1st_flr_sf lot_area',\n",
    " 'dumms__60 lot_area',\n",
    " 'dumms__60 functional',\n",
    " 'bsmt_exposure dumms__20',\n",
    " 'bsmtfin_sf_1 dumms__20',\n",
    " 'dumnei_noridge lot_area',\n",
    " 'functional^2',\n",
    " 'dumms__20 functional',\n",
    " 'dumext_brkface overall_qual',\n",
    " 'dumnei_grnhill lot_area',\n",
    " 'dummis_tenc screen_porch',\n",
    " 'dummis_tenc overall_qual',\n",
    " 'dummis_tenc functional',\n",
    " 'dummis_tenc kitchen_qual',\n",
    " 'dummis_tenc dumnei_nwames',\n",
    " 'dummis_tenc dumms__60',\n",
    " 'dummis_tenc^2',\n",
    " 'bsmt_qual dummis_tenc',\n",
    " 'bin_year_built dummis_tenc',\n",
    " 'dummis_tenc garage_area',\n",
    " 'bin_total_baths dummis_tenc',\n",
    " 'dummis_tenc gr_liv_area',\n",
    " 'dummis_tenc total_bsmt_sf',\n",
    " '1st_flr_sf dummis_tenc',\n",
    " 'bsmtfin_sf_1 dummis_tenc',\n",
    " 'dummis_tenc exter_qual',\n",
    " 'bsmt_cond dummis_tenc',\n",
    " 'dummis_tenc lot_area',\n",
    " 'dummis_tenc mas_vnr_area',\n",
    " 'bedroom_abvgr fireplaces',\n",
    " 'lot_area garage_area',\n",
    " 'full_bath bedroom_abvgr',\n",
    " 'half_bath garage_yr_blt',\n",
    " 'lot_frontage 1st_flr_sf',\n",
    " 'bsmtfin_sf_1 bedroom_abvgr',\n",
    " 'total_bsmt_sf garage_yr_blt',\n",
    " 'half_bath^2',\n",
    " 'low_qual_fin_sf open_porch_sf',\n",
    " '1st_flr_sf bedroom_abvgr',\n",
    " 'kitchen_abvgr totrms_abvgrd',\n",
    " 'bsmt_unf_sf garage_yr_blt',\n",
    " 'bsmtfin_sf_1 year_built',\n",
    " 'total_bsmt_sf',\n",
    " 'total_bsmt_sf yr_sold',\n",
    " 'total_bsmt_sf year_remod/add',\n",
    " 'gr_liv_area year_remod/add',\n",
    " 'bedroom_abvgr garage_cars',\n",
    " 'lot_area bsmtfin_sf_1',\n",
    " 'total_bsmt_sf year_built',\n",
    " 'lot_area total_bsmt_sf',\n",
    " 'bedroom_abvgr totrms_abvgrd',\n",
    " 'kitchen_abvgr fireplaces',\n",
    " 'lot_frontage garage_yr_blt',\n",
    " 'garage_area full_bath']     "
   ]
  },
  {
   "cell_type": "code",
   "execution_count": 175,
   "metadata": {},
   "outputs": [],
   "source": [
    "for r in poly_revised_features:\n",
    "    if r not in X_poly.columns:\n",
    "        print(r)\n",
    "        poly_revised_features.remove(r)"
   ]
  },
  {
   "cell_type": "code",
   "execution_count": 176,
   "metadata": {},
   "outputs": [],
   "source": [
    "X = pd.concat((train[revised_features], X_poly[poly_revised_features]), axis=1)"
   ]
  },
  {
   "cell_type": "code",
   "execution_count": 177,
   "metadata": {},
   "outputs": [],
   "source": [
    "X_train, X_test, y_train, y_test = train_test_split(X,y, random_state=42)\n",
    "\n",
    "lr = LinearRegression()\n",
    "lr.fit(X_train,y_train)\n",
    "\n",
    "y_train = np.exp(y_train)\n",
    "y_test = np.exp(y_test)"
   ]
  },
  {
   "cell_type": "code",
   "execution_count": 180,
   "metadata": {},
   "outputs": [
    {
     "data": {
      "text/html": [
       "<div>\n",
       "<style scoped>\n",
       "    .dataframe tbody tr th:only-of-type {\n",
       "        vertical-align: middle;\n",
       "    }\n",
       "\n",
       "    .dataframe tbody tr th {\n",
       "        vertical-align: top;\n",
       "    }\n",
       "\n",
       "    .dataframe thead th {\n",
       "        text-align: right;\n",
       "    }\n",
       "</style>\n",
       "<table border=\"1\" class=\"dataframe\">\n",
       "  <thead>\n",
       "    <tr style=\"text-align: right;\">\n",
       "      <th></th>\n",
       "      <th>Scores</th>\n",
       "      <th>Train</th>\n",
       "      <th>Test</th>\n",
       "      <th>Result</th>\n",
       "      <th>Percent</th>\n",
       "    </tr>\n",
       "  </thead>\n",
       "  <tbody>\n",
       "    <tr>\n",
       "      <th>0</th>\n",
       "      <td>lr.score</td>\n",
       "      <td>-5.18285</td>\n",
       "      <td>-5.43514</td>\n",
       "      <td>Train &gt; Test</td>\n",
       "      <td>-4.64193</td>\n",
       "    </tr>\n",
       "    <tr>\n",
       "      <th>1</th>\n",
       "      <td>r2_score</td>\n",
       "      <td>0.932074</td>\n",
       "      <td>0.923325</td>\n",
       "      <td>Train &gt; Test</td>\n",
       "      <td>0.947605</td>\n",
       "    </tr>\n",
       "    <tr>\n",
       "      <th>2</th>\n",
       "      <td>mean cross_val_score</td>\n",
       "      <td>0.761941</td>\n",
       "      <td>0.905557</td>\n",
       "      <td>Train &lt; Test</td>\n",
       "      <td>-15.8594</td>\n",
       "    </tr>\n",
       "    <tr>\n",
       "      <th>3</th>\n",
       "      <td>mean_squared_error</td>\n",
       "      <td>4.29597e+08</td>\n",
       "      <td>4.70787e+08</td>\n",
       "      <td>Train &lt; Test</td>\n",
       "      <td>-8.74918</td>\n",
       "    </tr>\n",
       "    <tr>\n",
       "      <th>4</th>\n",
       "      <td>root mean squared error</td>\n",
       "      <td>20726.7</td>\n",
       "      <td>21697.6</td>\n",
       "      <td>Train &lt; Test</td>\n",
       "      <td>-4.4747</td>\n",
       "    </tr>\n",
       "    <tr>\n",
       "      <th>5</th>\n",
       "      <td>residual mean</td>\n",
       "      <td>14336.9</td>\n",
       "      <td>15182.9</td>\n",
       "      <td>Train &lt; Test</td>\n",
       "      <td>-5.57247</td>\n",
       "    </tr>\n",
       "    <tr>\n",
       "      <th>6</th>\n",
       "      <td>cross_val_score</td>\n",
       "      <td>[0.927, 0.89, 0.865, 0.913, 0.214]</td>\n",
       "      <td>[0.928, 0.915, 0.85, 0.919, 0.916]</td>\n",
       "      <td>NaN</td>\n",
       "      <td>NaN</td>\n",
       "    </tr>\n",
       "  </tbody>\n",
       "</table>\n",
       "</div>"
      ],
      "text/plain": [
       "                    Scores                               Train  \\\n",
       "0                 lr.score                            -5.18285   \n",
       "1                 r2_score                            0.932074   \n",
       "2     mean cross_val_score                            0.761941   \n",
       "3       mean_squared_error                         4.29597e+08   \n",
       "4  root mean squared error                             20726.7   \n",
       "5            residual mean                             14336.9   \n",
       "6          cross_val_score  [0.927, 0.89, 0.865, 0.913, 0.214]   \n",
       "\n",
       "                                 Test        Result   Percent  \n",
       "0                            -5.43514  Train > Test  -4.64193  \n",
       "1                            0.923325  Train > Test  0.947605  \n",
       "2                            0.905557  Train < Test  -15.8594  \n",
       "3                         4.70787e+08  Train < Test  -8.74918  \n",
       "4                             21697.6  Train < Test   -4.4747  \n",
       "5                             15182.9  Train < Test  -5.57247  \n",
       "6  [0.928, 0.915, 0.85, 0.919, 0.916]           NaN       NaN  "
      ]
     },
     "execution_count": 180,
     "metadata": {},
     "output_type": "execute_result"
    }
   ],
   "source": [
    "pm = PredictionMetrics(lr, X_train, X_test, y_train, y_test, True)\n",
    "pm.metric_df"
   ]
  },
  {
   "cell_type": "code",
   "execution_count": 59,
   "metadata": {},
   "outputs": [
    {
     "name": "stderr",
     "output_type": "stream",
     "text": [
      "/opt/anaconda3/lib/python3.7/site-packages/numpy/core/fromnumeric.py:2495: FutureWarning: Method .ptp is deprecated and will be removed in a future version. Use numpy.ptp instead.\n",
      "  return ptp(axis=axis, out=out, **kwargs)\n"
     ]
    },
    {
     "data": {
      "text/html": [
       "<table class=\"simpletable\">\n",
       "<caption>OLS Regression Results</caption>\n",
       "<tr>\n",
       "  <th>Dep. Variable:</th>        <td>saleprice</td>    <th>  R-squared:         </th> <td>   0.909</td>\n",
       "</tr>\n",
       "<tr>\n",
       "  <th>Model:</th>                   <td>OLS</td>       <th>  Adj. R-squared:    </th> <td>   0.906</td>\n",
       "</tr>\n",
       "<tr>\n",
       "  <th>Method:</th>             <td>Least Squares</td>  <th>  F-statistic:       </th> <td>   310.1</td>\n",
       "</tr>\n",
       "<tr>\n",
       "  <th>Date:</th>             <td>Wed, 15 Jan 2020</td> <th>  Prob (F-statistic):</th>  <td>  0.00</td> \n",
       "</tr>\n",
       "<tr>\n",
       "  <th>Time:</th>                 <td>13:11:04</td>     <th>  Log-Likelihood:    </th> <td>  1370.6</td>\n",
       "</tr>\n",
       "<tr>\n",
       "  <th>No. Observations:</th>      <td>  2051</td>      <th>  AIC:               </th> <td>  -2611.</td>\n",
       "</tr>\n",
       "<tr>\n",
       "  <th>Df Residuals:</th>          <td>  1986</td>      <th>  BIC:               </th> <td>  -2246.</td>\n",
       "</tr>\n",
       "<tr>\n",
       "  <th>Df Model:</th>              <td>    64</td>      <th>                     </th>     <td> </td>   \n",
       "</tr>\n",
       "<tr>\n",
       "  <th>Covariance Type:</th>      <td>nonrobust</td>    <th>                     </th>     <td> </td>   \n",
       "</tr>\n",
       "</table>"
      ],
      "text/plain": [
       "<class 'statsmodels.iolib.table.SimpleTable'>"
      ]
     },
     "execution_count": 59,
     "metadata": {},
     "output_type": "execute_result"
    }
   ],
   "source": [
    "ols_X = sm.add_constant(X)\n",
    "model_ols = sm.OLS(y,ols_X).fit()\n",
    "model_ols.summary().tables[0]"
   ]
  },
  {
   "cell_type": "code",
   "execution_count": 60,
   "metadata": {},
   "outputs": [
    {
     "data": {
      "text/plain": [
       "count      2051.000000\n",
       "mean     180645.866482\n",
       "std       76373.108349\n",
       "min       21455.582545\n",
       "25%      127314.922262\n",
       "50%      161589.559012\n",
       "75%      215099.647631\n",
       "max      543897.881029\n",
       "Name: salesprice_hat, dtype: float64"
      ]
     },
     "execution_count": 60,
     "metadata": {},
     "output_type": "execute_result"
    }
   ],
   "source": [
    "train[\"salesprice_hat\"] = np.exp(lr.predict(X))\n",
    "train[\"salesprice_hat\"].describe()"
   ]
  },
  {
   "cell_type": "code",
   "execution_count": 61,
   "metadata": {},
   "outputs": [
    {
     "data": {
      "text/html": [
       "<div>\n",
       "<style scoped>\n",
       "    .dataframe tbody tr th:only-of-type {\n",
       "        vertical-align: middle;\n",
       "    }\n",
       "\n",
       "    .dataframe tbody tr th {\n",
       "        vertical-align: top;\n",
       "    }\n",
       "\n",
       "    .dataframe thead th {\n",
       "        text-align: right;\n",
       "    }\n",
       "</style>\n",
       "<table border=\"1\" class=\"dataframe\">\n",
       "  <thead>\n",
       "    <tr style=\"text-align: right;\">\n",
       "      <th></th>\n",
       "      <th>saleprice</th>\n",
       "      <th>salesprice_hat</th>\n",
       "      <th>residuals</th>\n",
       "    </tr>\n",
       "  </thead>\n",
       "  <tbody>\n",
       "    <tr>\n",
       "      <th>4</th>\n",
       "      <td>138500</td>\n",
       "      <td>142361.928823</td>\n",
       "      <td>3861.928823</td>\n",
       "    </tr>\n",
       "    <tr>\n",
       "      <th>5</th>\n",
       "      <td>190000</td>\n",
       "      <td>197762.653585</td>\n",
       "      <td>7762.653585</td>\n",
       "    </tr>\n",
       "    <tr>\n",
       "      <th>6</th>\n",
       "      <td>140000</td>\n",
       "      <td>147587.770574</td>\n",
       "      <td>7587.770574</td>\n",
       "    </tr>\n",
       "    <tr>\n",
       "      <th>7</th>\n",
       "      <td>142000</td>\n",
       "      <td>142819.906670</td>\n",
       "      <td>819.906670</td>\n",
       "    </tr>\n",
       "    <tr>\n",
       "      <th>8</th>\n",
       "      <td>112500</td>\n",
       "      <td>122482.679693</td>\n",
       "      <td>9982.679693</td>\n",
       "    </tr>\n",
       "    <tr>\n",
       "      <th>...</th>\n",
       "      <td>...</td>\n",
       "      <td>...</td>\n",
       "      <td>...</td>\n",
       "    </tr>\n",
       "    <tr>\n",
       "      <th>2039</th>\n",
       "      <td>93900</td>\n",
       "      <td>87927.555316</td>\n",
       "      <td>5972.444684</td>\n",
       "    </tr>\n",
       "    <tr>\n",
       "      <th>2041</th>\n",
       "      <td>412500</td>\n",
       "      <td>421640.499136</td>\n",
       "      <td>9140.499136</td>\n",
       "    </tr>\n",
       "    <tr>\n",
       "      <th>2043</th>\n",
       "      <td>128000</td>\n",
       "      <td>122423.154186</td>\n",
       "      <td>5576.845814</td>\n",
       "    </tr>\n",
       "    <tr>\n",
       "      <th>2044</th>\n",
       "      <td>182000</td>\n",
       "      <td>172525.615328</td>\n",
       "      <td>9474.384672</td>\n",
       "    </tr>\n",
       "    <tr>\n",
       "      <th>2050</th>\n",
       "      <td>189000</td>\n",
       "      <td>194036.225220</td>\n",
       "      <td>5036.225220</td>\n",
       "    </tr>\n",
       "  </tbody>\n",
       "</table>\n",
       "<p>989 rows × 3 columns</p>\n",
       "</div>"
      ],
      "text/plain": [
       "      saleprice  salesprice_hat    residuals\n",
       "4        138500   142361.928823  3861.928823\n",
       "5        190000   197762.653585  7762.653585\n",
       "6        140000   147587.770574  7587.770574\n",
       "7        142000   142819.906670   819.906670\n",
       "8        112500   122482.679693  9982.679693\n",
       "...         ...             ...          ...\n",
       "2039      93900    87927.555316  5972.444684\n",
       "2041     412500   421640.499136  9140.499136\n",
       "2043     128000   122423.154186  5576.845814\n",
       "2044     182000   172525.615328  9474.384672\n",
       "2050     189000   194036.225220  5036.225220\n",
       "\n",
       "[989 rows x 3 columns]"
      ]
     },
     "execution_count": 61,
     "metadata": {},
     "output_type": "execute_result"
    }
   ],
   "source": [
    "train[\"residuals\"] = abs(train[\"saleprice\"] - train[\"salesprice_hat\"])\n",
    "train.loc[train[\"residuals\"] < 10_000, [\"saleprice\", \"salesprice_hat\", \"residuals\"]]"
   ]
  },
  {
   "cell_type": "code",
   "execution_count": 62,
   "metadata": {},
   "outputs": [
    {
     "data": {
      "image/png": "[encoded data removed]",
      "text/plain": [
       "<Figure size 360x360 with 1 Axes>"
      ]
     },
     "metadata": {},
     "output_type": "display_data"
    }
   ],
   "source": [
    "#Plotting 6th  LR prediction model\n",
    "plt.figure(figsize=(5,5))\n",
    "\n",
    "y_hat = np.exp(lr.predict(X))\n",
    "\n",
    "# Generate a scatterplot of predicted values versus actual values.\n",
    "plt.scatter(y_hat, train[\"saleprice\"], s=5, color='lime', alpha = 0.5)\n",
    "\n",
    "##Absolute \n",
    "sns.lineplot([0, np.max(train[\"saleprice\"])], [0, np.max(train[\"saleprice\"])], color=\"white\", linewidth=2)\n",
    "\n",
    "# Tweak title and axis labels.\n",
    "plt.xlabel(\"Predicted Values: $\\hat{y}$\", fontsize = 20)\n",
    "plt.ylabel(\"Actual Values: $y$\", fontsize = 20)\n",
    "plt.title('Predicted Values vs. Actual Values', fontsize = 24);"
   ]
  },
  {
   "cell_type": "code",
   "execution_count": 63,
   "metadata": {},
   "outputs": [],
   "source": [
    "##adding the columns missing in kaggle\n",
    "for cols in revised_features:\n",
    "    if cols not in kaggle.columns:\n",
    "        kaggle[cols] = 0\n",
    "\n",
    "X_kaggle_poly = poly.fit_transform(kaggle[for_poly])\n",
    "# Convert X_poly to a DataFrame\n",
    "new_kaggle_poly_df = pd.DataFrame(X_kaggle_poly, columns=poly.get_feature_names(for_poly))\n",
    "\n",
    "prediction_data = pd.concat((kaggle[revised_features], new_kaggle_poly_df[poly_revised_features]), axis=1)\n",
    "\n",
    "kaggle_preds = np.exp(lr.predict(prediction_data))\n",
    "kaggle_predictions = pd.concat((pd.DataFrame(kaggle[\"Id\"]), pd.DataFrame(kaggle_preds, columns=[\"SalePrice\"])), axis=1)"
   ]
  },
  {
   "cell_type": "code",
   "execution_count": 64,
   "metadata": {},
   "outputs": [
    {
     "data": {
      "text/plain": [
       "81792.2076125801"
      ]
     },
     "execution_count": 64,
     "metadata": {},
     "output_type": "execute_result"
    }
   ],
   "source": [
    "kaggle_predictions[\"SalePrice\"].std()"
   ]
  },
  {
   "cell_type": "code",
   "execution_count": 65,
   "metadata": {},
   "outputs": [
    {
     "data": {
      "text/plain": [
       "count       878.000000\n",
       "mean     179809.019159\n",
       "std       81792.207613\n",
       "min       52473.891667\n",
       "25%      125660.772940\n",
       "50%      156251.540866\n",
       "75%      212644.545816\n",
       "max      825012.141894\n",
       "Name: SalePrice, dtype: float64"
      ]
     },
     "execution_count": 65,
     "metadata": {},
     "output_type": "execute_result"
    }
   ],
   "source": [
    "kaggle_predictions[\"SalePrice\"].describe()"
   ]
  },
  {
   "cell_type": "code",
   "execution_count": 66,
   "metadata": {},
   "outputs": [],
   "source": [
    "kaggle_predictions.to_csv(\"./submissions/7-features-predictions.csv\", index=False)"
   ]
  },
  {
   "cell_type": "code",
   "execution_count": null,
   "metadata": {},
   "outputs": [],
   "source": []
  },
  {
   "cell_type": "code",
   "execution_count": 89,
   "metadata": {},
   "outputs": [],
   "source": [
    "y = train[\"saleprice\"].map(np.log)"
   ]
  },
  {
   "cell_type": "code",
   "execution_count": 90,
   "metadata": {},
   "outputs": [],
   "source": [
    "X = pd.concat((train[revised_features], X_poly[poly_revised_features]), axis=1)"
   ]
  },
  {
   "cell_type": "code",
   "execution_count": 105,
   "metadata": {},
   "outputs": [
    {
     "data": {
      "text/plain": [
       "(2051, 85)"
      ]
     },
     "execution_count": 105,
     "metadata": {},
     "output_type": "execute_result"
    }
   ],
   "source": [
    "X.shape"
   ]
  },
  {
   "cell_type": "code",
   "execution_count": 100,
   "metadata": {},
   "outputs": [],
   "source": [
    "X_train, X_test, y_train, y_test = train_test_split(X,y, random_state=42)"
   ]
  },
  {
   "cell_type": "code",
   "execution_count": 109,
   "metadata": {},
   "outputs": [],
   "source": [
    "ss = StandardScaler()\n",
    "X_train_sc = ss.fit_transform(X_train)\n",
    "X_test_sc = ss.transform(X_test)"
   ]
  },
  {
   "cell_type": "code",
   "execution_count": 110,
   "metadata": {},
   "outputs": [],
   "source": [
    "from sklearn.linear_model import RidgeCV"
   ]
  },
  {
   "cell_type": "code",
   "execution_count": 111,
   "metadata": {},
   "outputs": [],
   "source": [
    "# Set up a list of ridge alphas to check.\n",
    "r_alphas = np.logspace(0, 5, 100)\n",
    "# Generates 100 values equally between 0 and 5,\n",
    "# then converts them to alphas between 10^0 and 10^5.\n",
    "\n",
    "# Cross-validate over our list of ridge alphas.\n",
    "ridge_model = RidgeCV(alphas=r_alphas, scoring='r2', cv=5)\n",
    "\n",
    "# Fit model using best ridge alpha!\n",
    "ridge_model = ridge_model.fit(X_train_sc, y_train)"
   ]
  },
  {
   "cell_type": "code",
   "execution_count": 112,
   "metadata": {},
   "outputs": [
    {
     "data": {
      "text/plain": [
       "1.0"
      ]
     },
     "execution_count": 112,
     "metadata": {},
     "output_type": "execute_result"
    }
   ],
   "source": [
    "# Here is the optimal value of alpha\n",
    "ridge_model.alpha_"
   ]
  },
  {
   "cell_type": "code",
   "execution_count": 113,
   "metadata": {},
   "outputs": [
    {
     "name": "stdout",
     "output_type": "stream",
     "text": [
      "0.911725359040155\n",
      "0.8832385303993514\n"
     ]
    }
   ],
   "source": [
    "print(ridge_model.score(X_train_sc, y_train))\n",
    "print(ridge_model.score(X_test_sc, y_test))"
   ]
  },
  {
   "cell_type": "code",
   "execution_count": 114,
   "metadata": {},
   "outputs": [
    {
     "data": {
      "text/plain": [
       "count      2051.000000\n",
       "mean     180526.702575\n",
       "std       76177.580733\n",
       "min       22055.915716\n",
       "25%      127868.310833\n",
       "50%      160421.523301\n",
       "75%      214682.046863\n",
       "max      524915.211815\n",
       "Name: salesprice_hat, dtype: float64"
      ]
     },
     "execution_count": 114,
     "metadata": {},
     "output_type": "execute_result"
    }
   ],
   "source": [
    "X_sc = ss.transform(X)\n",
    "train[\"salesprice_hat\"] = np.exp(ridge_model.predict(X_sc))\n",
    "train[\"salesprice_hat\"].describe()"
   ]
  },
  {
   "cell_type": "code",
   "execution_count": 115,
   "metadata": {},
   "outputs": [
    {
     "data": {
      "text/html": [
       "<div>\n",
       "<style scoped>\n",
       "    .dataframe tbody tr th:only-of-type {\n",
       "        vertical-align: middle;\n",
       "    }\n",
       "\n",
       "    .dataframe tbody tr th {\n",
       "        vertical-align: top;\n",
       "    }\n",
       "\n",
       "    .dataframe thead th {\n",
       "        text-align: right;\n",
       "    }\n",
       "</style>\n",
       "<table border=\"1\" class=\"dataframe\">\n",
       "  <thead>\n",
       "    <tr style=\"text-align: right;\">\n",
       "      <th></th>\n",
       "      <th>saleprice</th>\n",
       "      <th>salesprice_hat</th>\n",
       "      <th>residuals</th>\n",
       "    </tr>\n",
       "  </thead>\n",
       "  <tbody>\n",
       "    <tr>\n",
       "      <th>4</th>\n",
       "      <td>138500</td>\n",
       "      <td>138724.845735</td>\n",
       "      <td>224.845735</td>\n",
       "    </tr>\n",
       "    <tr>\n",
       "      <th>5</th>\n",
       "      <td>190000</td>\n",
       "      <td>195889.113640</td>\n",
       "      <td>5889.113640</td>\n",
       "    </tr>\n",
       "    <tr>\n",
       "      <th>6</th>\n",
       "      <td>140000</td>\n",
       "      <td>146405.538335</td>\n",
       "      <td>6405.538335</td>\n",
       "    </tr>\n",
       "    <tr>\n",
       "      <th>7</th>\n",
       "      <td>142000</td>\n",
       "      <td>144513.467328</td>\n",
       "      <td>2513.467328</td>\n",
       "    </tr>\n",
       "    <tr>\n",
       "      <th>11</th>\n",
       "      <td>183600</td>\n",
       "      <td>190298.529669</td>\n",
       "      <td>6698.529669</td>\n",
       "    </tr>\n",
       "    <tr>\n",
       "      <th>...</th>\n",
       "      <td>...</td>\n",
       "      <td>...</td>\n",
       "      <td>...</td>\n",
       "    </tr>\n",
       "    <tr>\n",
       "      <th>2039</th>\n",
       "      <td>93900</td>\n",
       "      <td>86890.636882</td>\n",
       "      <td>7009.363118</td>\n",
       "    </tr>\n",
       "    <tr>\n",
       "      <th>2043</th>\n",
       "      <td>128000</td>\n",
       "      <td>125489.438244</td>\n",
       "      <td>2510.561756</td>\n",
       "    </tr>\n",
       "    <tr>\n",
       "      <th>2044</th>\n",
       "      <td>182000</td>\n",
       "      <td>173329.101066</td>\n",
       "      <td>8670.898934</td>\n",
       "    </tr>\n",
       "    <tr>\n",
       "      <th>2048</th>\n",
       "      <td>177000</td>\n",
       "      <td>167150.717867</td>\n",
       "      <td>9849.282133</td>\n",
       "    </tr>\n",
       "    <tr>\n",
       "      <th>2050</th>\n",
       "      <td>189000</td>\n",
       "      <td>186840.930872</td>\n",
       "      <td>2159.069128</td>\n",
       "    </tr>\n",
       "  </tbody>\n",
       "</table>\n",
       "<p>968 rows × 3 columns</p>\n",
       "</div>"
      ],
      "text/plain": [
       "      saleprice  salesprice_hat    residuals\n",
       "4        138500   138724.845735   224.845735\n",
       "5        190000   195889.113640  5889.113640\n",
       "6        140000   146405.538335  6405.538335\n",
       "7        142000   144513.467328  2513.467328\n",
       "11       183600   190298.529669  6698.529669\n",
       "...         ...             ...          ...\n",
       "2039      93900    86890.636882  7009.363118\n",
       "2043     128000   125489.438244  2510.561756\n",
       "2044     182000   173329.101066  8670.898934\n",
       "2048     177000   167150.717867  9849.282133\n",
       "2050     189000   186840.930872  2159.069128\n",
       "\n",
       "[968 rows x 3 columns]"
      ]
     },
     "execution_count": 115,
     "metadata": {},
     "output_type": "execute_result"
    }
   ],
   "source": [
    "train[\"residuals\"] = abs(train[\"saleprice\"] - train[\"salesprice_hat\"])\n",
    "train.loc[train[\"residuals\"] < 10_000, [\"saleprice\", \"salesprice_hat\", \"residuals\"]]"
   ]
  },
  {
   "cell_type": "code",
   "execution_count": 116,
   "metadata": {},
   "outputs": [],
   "source": [
    "##adding the columns missing in kaggle\n",
    "for cols in revised_features:\n",
    "    if cols not in kaggle.columns:\n",
    "        kaggle[cols] = 0\n",
    "\n",
    "X_kaggle_poly = poly.fit_transform(kaggle[for_poly])\n",
    "# Convert X_poly to a DataFrame\n",
    "new_kaggle_poly_df = pd.DataFrame(X_kaggle_poly, columns=poly.get_feature_names(for_poly))\n",
    "\n",
    "prediction_data = pd.concat((kaggle[revised_features], new_kaggle_poly_df[poly_revised_features]), axis=1)\n",
    "P_sc = ss.transform(prediction_data)\n",
    "\n",
    "kaggle_preds = np.exp(ridge_model.predict(P_sc))\n",
    "kaggle_predictions = pd.concat((pd.DataFrame(kaggle[\"Id\"]), pd.DataFrame(kaggle_preds, columns=[\"SalePrice\"])), axis=1)"
   ]
  },
  {
   "cell_type": "code",
   "execution_count": 117,
   "metadata": {},
   "outputs": [
    {
     "data": {
      "text/plain": [
       "81169.67836614882"
      ]
     },
     "execution_count": 117,
     "metadata": {},
     "output_type": "execute_result"
    }
   ],
   "source": [
    "kaggle_predictions[\"SalePrice\"].std()"
   ]
  },
  {
   "cell_type": "code",
   "execution_count": 118,
   "metadata": {},
   "outputs": [
    {
     "data": {
      "text/plain": [
       "count       878.000000\n",
       "mean     179418.153488\n",
       "std       81169.678366\n",
       "min       51271.573639\n",
       "25%      126220.783569\n",
       "50%      155797.303717\n",
       "75%      212425.631544\n",
       "max      827349.873827\n",
       "Name: SalePrice, dtype: float64"
      ]
     },
     "execution_count": 118,
     "metadata": {},
     "output_type": "execute_result"
    }
   ],
   "source": [
    "kaggle_predictions[\"SalePrice\"].describe()"
   ]
  },
  {
   "cell_type": "code",
   "execution_count": 181,
   "metadata": {},
   "outputs": [],
   "source": [
    "kaggle_predictions.to_csv(\"./submissions/8-features-predictions.csv\", index=False)"
   ]
  },
  {
   "cell_type": "markdown",
   "metadata": {},
   "source": [
    "#### Contd. NEXT  --- > [4. Exploratory Data Analysis](./4_Exploratory_Data_Analysis.ipynb)"
   ]
  }
 ],
 "metadata": {
  "kernelspec": {
   "display_name": "Python 3",
   "language": "python",
   "name": "python3"
  },
  "language_info": {
   "codemirror_mode": {
    "name": "ipython",
    "version": 3
   },
   "file_extension": ".py",
   "mimetype": "text/x-python",
   "name": "python",
   "nbconvert_exporter": "python",
   "pygments_lexer": "ipython3",
   "version": "3.7.4"
  }
 },
 "nbformat": 4,
 "nbformat_minor": 2
}
