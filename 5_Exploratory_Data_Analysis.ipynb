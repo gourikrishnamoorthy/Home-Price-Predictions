{
 "cells": [
  {
   "cell_type": "markdown",
   "metadata": {},
   "source": [
    "# Continued EDA/Modelling/Predictions"
   ]
  },
  {
   "cell_type": "code",
   "execution_count": 93,
   "metadata": {},
   "outputs": [],
   "source": [
    "import pandas as pd\n",
    "import numpy as np\n",
    "import matplotlib.pyplot as plt\n",
    "import seaborn as sns\n",
    "from sklearn.linear_model import LinearRegression, LassoCV, RidgeCV\n",
    "from sklearn.metrics import mean_squared_error, r2_score, mean_absolute_error\n",
    "from sklearn.model_selection import train_test_split, cross_val_score\n",
    "from scipy.stats import stats\n",
    "import statsmodels.api as sm\n",
    "from sklearn.preprocessing import StandardScaler, PolynomialFeatures\n",
    "from PredMetric.PMetrics import PredictionMetrics\n",
    "\n",
    "plt.style.use('dark_background')"
   ]
  },
  {
   "cell_type": "code",
   "execution_count": 2,
   "metadata": {},
   "outputs": [],
   "source": [
    "train = pd.read_csv(\"./interim_datasets/train_interim.csv\")\n",
    "kaggle = pd.read_csv(\"./interim_datasets/kaggle_interim.csv\")"
   ]
  },
  {
   "cell_type": "code",
   "execution_count": 3,
   "metadata": {},
   "outputs": [],
   "source": [
    "nominal_cols = [\"MS SubClass\", \"MS Zoning\", \"Street\", \"Alley\", \"Land Contour\", \"Lot Config\", \"Neighborhood\",\"Condition 1\",\"Condition 2\",\"Bldg Type\", \"House Style\", \"Roof Style\", \"Roof Matl\", \"Exterior 1st\", \"Exterior 2nd\", \"Mas Vnr Type\", \"Foundation\", \"Heating\", \"Central Air\", \"Garage Type\", \"Misc Feature\"]\n",
    "ordinal_cols = [\"Lot Shape\", \"Utilities\", \"Land Slope\", \"Overall Qual\", \"Overall Cond\", \"Exter Qual\", \"Exter Cond\", \"Bsmt Qual\", \"Bsmt Cond\", \"Bsmt Exposure\", \"BsmtFin Type 1\", \"BsmtFin Type 2\", \"Heating QC\", \"Electrical\", \"Kitchen Qual\", \"Functional\", \"Fireplace Qu\", \"Garage Finish\", \"Garage Qual\", \"Garage Cond\", \"Paved Drive\", \"Pool QC\", \"Fence\"]\n",
    "continuous_cols = [\"Lot Frontage\", \"Lot Area\", \"Mas Vnr Area\", \"BsmtFin SF 1\", \"BsmtFin SF 2\", \"Bsmt Unf SF\", \"Total Bsmt SF\", \"1st Flr SF\", \"2nd Flr SF\", \"Low Qual Fin SF\", \"Gr Liv Area\", \"Garage Area\", \"Wood Deck SF\", \"Open Porch SF\", \"Enclosed Porch\", \"3Ssn Porch\", \"Screen Porch\", \"Pool Area\", \"Misc Val\"]\n",
    "discrete_cols = [\"Year Built\", \"Year Remod/Add\", \"Bsmt Full Bath\", \"Bsmt Half Bath\", \"Full Bath\", \"Half Bath\", \"Bedroom abvgr\", \"Kitchen abvgr\", \"totrms abvgrd\", \"Fireplaces\", \"Garage Yr Blt\", \"Garage Cars\", \"Mo Sold\" ,\"Yr Sold\"]"
   ]
  },
  {
   "cell_type": "code",
   "execution_count": 4,
   "metadata": {},
   "outputs": [],
   "source": [
    "def convert(x):\n",
    "    return x.lower().replace(\" \", \"_\")\n",
    "\n",
    "nominal_con_cols = [convert(x) for x in nominal_cols]\n",
    "ordinal_con_cols = {convert(x):{} for x in ordinal_cols}\n",
    "continuous_con_cols = [convert(x) for x in continuous_cols]\n",
    "discrete_con_cols = [convert(x) for x in discrete_cols]"
   ]
  },
  {
   "cell_type": "code",
   "execution_count": 5,
   "metadata": {},
   "outputs": [],
   "source": [
    "all_columns = list(train.filter(regex=\"dum\")) + \\\n",
    "              list(ordinal_con_cols.keys()) + continuous_con_cols + \\\n",
    "              list(train.filter(regex=\"bin\")) + \\\n",
    "              [\"totrms_abvgrd\", \"fireplaces\", \"garage_yr_blt\", \"garage_cars\", \"mo_sold\", \"yr_sold\", \"full_bath\"]"
   ]
  },
  {
   "cell_type": "code",
   "execution_count": 6,
   "metadata": {},
   "outputs": [],
   "source": [
    "new_train = train"
   ]
  },
  {
   "cell_type": "code",
   "execution_count": 7,
   "metadata": {},
   "outputs": [],
   "source": [
    "new_train[\"newhouse_sold_at_age\"] = new_train[\"yr_sold\"] - new_train[\"year_built\"]\n",
    "new_train[\"newhouse_sold_at_rage\"] = new_train[\"yr_sold\"] - new_train[\"year_remod/add\"]\n",
    "new_train['newmain_sqft']=new_train['gr_liv_area']+new_train['total_bsmt_sf']+new_train['garage_area']+new_train['enclosed_porch'] \n",
    "new_train['newsum_quals'] = new_train[\"overall_qual\"]+new_train[\"exter_qual\"]+new_train[\"bsmt_qual\"]+new_train[\"kitchen_qual\"]+new_train[\"garage_qual\"]\n",
    "new_train['newtot_bath']=new_train['full_bath']+new_train['half_bath']*0.5+new_train['bsmt_full_bath']+new_train['bsmt_half_bath']*0.5\n",
    "new_train['newsqft_inter']=(new_train['newmain_sqft']*new_train['newsum_quals']*new_train['newtot_bath']).map(np.sqrt)\n",
    "new_train['newrecent_build'] = (new_train['year_built']>=2000).astype(int)\n",
    "all_columns_full =  all_columns + list(new_train.filter(regex=\"new\"))"
   ]
  },
  {
   "cell_type": "code",
   "execution_count": 47,
   "metadata": {},
   "outputs": [
    {
     "data": {
      "text/plain": [
       "228"
      ]
     },
     "execution_count": 47,
     "metadata": {},
     "output_type": "execute_result"
    }
   ],
   "source": [
    "len(all_columns_full)"
   ]
  },
  {
   "cell_type": "code",
   "execution_count": 48,
   "metadata": {},
   "outputs": [],
   "source": [
    "poly_revised_features = ['overall_qual overall_qual',\n",
    " 'garage_area overall_qual',\n",
    " 'gr_liv_area kitchen_qual',\n",
    " '1st_flr_sf overall_qual',\n",
    " 'overall_qual total_bsmt_sf',\n",
    " 'bin_total_baths bsmt_qual',\n",
    " '1st_flr_sf total_bsmt_sf',\n",
    " '1st_flr_sf dumnei_nridght',\n",
    " 'gr_liv_area lot_area',\n",
    " 'bsmt_cond bsmtfin_sf_1',\n",
    " 'bsmt_exposure lot_area',\n",
    " '1st_flr_sf lot_area',\n",
    " 'dumms__60 lot_area',\n",
    " 'dumms__60 functional',\n",
    " 'bsmt_exposure dumms__20',\n",
    " 'bsmtfin_sf_1 dumms__20',\n",
    " 'dumnei_noridge lot_area',\n",
    " 'functional functional',\n",
    " 'dumms__20 functional',\n",
    " 'dumext_brkface overall_qual',\n",
    " 'dumnei_grnhill lot_area',\n",
    " 'dummis_tenc screen_porch',\n",
    " 'dummis_tenc overall_qual',\n",
    " 'dummis_tenc functional',\n",
    " 'dummis_tenc kitchen_qual',\n",
    " 'dummis_tenc dumnei_nwames',\n",
    " 'dummis_tenc dumms__60',\n",
    " 'dummis_tenc dummis_tenc',\n",
    " 'bsmt_qual dummis_tenc',\n",
    " 'bin_year_built dummis_tenc',\n",
    " 'dummis_tenc garage_area',\n",
    " 'bin_total_baths dummis_tenc',\n",
    " 'dummis_tenc gr_liv_area',\n",
    " 'dummis_tenc total_bsmt_sf',\n",
    " '1st_flr_sf dummis_tenc',\n",
    " 'bsmtfin_sf_1 dummis_tenc',\n",
    " 'dummis_tenc exter_qual',\n",
    " 'bsmt_cond dummis_tenc',\n",
    " 'dummis_tenc lot_area',\n",
    " 'dummis_tenc mas_vnr_area',\n",
    " 'bedroom_abvgr fireplaces',\n",
    " 'half_bath half_bath',\n",
    " 'low_qual_fin_sf open_porch_sf',\n",
    " '1st_flr_sf bedroom_abvgr',\n",
    " 'kitchen_abvgr totrms_abvgrd',\n",
    " 'bsmt_unf_sf garage_yr_blt',\n",
    " 'bsmtfin_sf_1 year_built',\n",
    " 'total_bsmt_sf yr_sold',\n",
    " 'total_bsmt_sf year_remod/add',\n",
    " 'gr_liv_area year_remod/add',\n",
    " 'bedroom_abvgr garage_cars',\n",
    " 'total_bsmt_sf year_built',\n",
    " 'lot_area total_bsmt_sf',\n",
    " 'bedroom_abvgr totrms_abvgrd']"
   ]
  },
  {
   "cell_type": "code",
   "execution_count": 49,
   "metadata": {},
   "outputs": [],
   "source": [
    "make_poly = []\n",
    "for p in poly_revised_features:\n",
    "    cols = p.split(\" \")\n",
    "    make_poly.append([cols[0], cols[1], p])"
   ]
  },
  {
   "cell_type": "code",
   "execution_count": 50,
   "metadata": {},
   "outputs": [],
   "source": [
    "for cols in make_poly:\n",
    "    new_train[cols[2]] = new_train[cols[0]] * new_train[cols[1]]"
   ]
  },
  {
   "cell_type": "code",
   "execution_count": 51,
   "metadata": {},
   "outputs": [],
   "source": [
    "all_columns_new = all_columns_full + poly_revised_features"
   ]
  },
  {
   "cell_type": "code",
   "execution_count": 9,
   "metadata": {},
   "outputs": [],
   "source": [
    "# correlation_dict = {col : [] for col in all_columns_full}"
   ]
  },
  {
   "cell_type": "code",
   "execution_count": 10,
   "metadata": {},
   "outputs": [],
   "source": [
    "# for col in correlation_dict:\n",
    "#     y = new_train[col]\n",
    "#     X = new_train[all_columns_full]\n",
    "#     correlation_dict[col] = list(new_train[all_columns_full].corr()[[col]][new_train[all_columns_full].corr()[col].abs() > 0.50].sort_values(by=col, ascending=False).index)"
   ]
  },
  {
   "cell_type": "code",
   "execution_count": 11,
   "metadata": {},
   "outputs": [],
   "source": [
    "# def product(mlst):\n",
    "#     val = 1\n",
    "#     for x in mlst:\n",
    "#         val = val * x\n",
    "#     return val \n",
    "\n",
    "# drop_columns = []\n",
    "# for col in correlation_dict:\n",
    "#     lst = correlation_dict[col]\n",
    "#     if len(lst) > 1:\n",
    "#         new_col = \"new_\" + col\n",
    "#         new_train[new_col] = product([new_train[col] for col in lst])\n",
    "#         drop_columns = drop_columns + [col for col in lst if col not in drop_columns]\n",
    "\n",
    "# drop_columns.sort()\n",
    "# # new_train = new_train.drop(columns=drop_columns)"
   ]
  },
  {
   "cell_type": "code",
   "execution_count": null,
   "metadata": {},
   "outputs": [],
   "source": []
  },
  {
   "cell_type": "code",
   "execution_count": null,
   "metadata": {},
   "outputs": [],
   "source": []
  },
  {
   "cell_type": "code",
   "execution_count": 12,
   "metadata": {},
   "outputs": [
    {
     "data": {
      "text/html": [
       "<div>\n",
       "<style scoped>\n",
       "    .dataframe tbody tr th:only-of-type {\n",
       "        vertical-align: middle;\n",
       "    }\n",
       "\n",
       "    .dataframe tbody tr th {\n",
       "        vertical-align: top;\n",
       "    }\n",
       "\n",
       "    .dataframe thead th {\n",
       "        text-align: right;\n",
       "    }\n",
       "</style>\n",
       "<table border=\"1\" class=\"dataframe\">\n",
       "  <thead>\n",
       "    <tr style=\"text-align: right;\">\n",
       "      <th></th>\n",
       "      <th>new_dumms__20</th>\n",
       "      <th>new_dumms__45</th>\n",
       "      <th>new_dumms__50</th>\n",
       "      <th>new_dumms__60</th>\n",
       "      <th>new_dumms__75</th>\n",
       "      <th>new_dumms__80</th>\n",
       "      <th>new_dumms__85</th>\n",
       "      <th>new_dumms__90</th>\n",
       "      <th>new_dumms__120</th>\n",
       "      <th>new_dumms__160</th>\n",
       "      <th>...</th>\n",
       "      <th>new_garage_yr_blt</th>\n",
       "      <th>new_garage_cars</th>\n",
       "      <th>new_full_bath</th>\n",
       "      <th>new_newhouse_sold_at_age</th>\n",
       "      <th>new_newhouse_sold_at_rage</th>\n",
       "      <th>new_newmain_sqft</th>\n",
       "      <th>new_newsum_quals</th>\n",
       "      <th>new_newtot_bath</th>\n",
       "      <th>new_newsqft_inter</th>\n",
       "      <th>new_newrecent_build</th>\n",
       "    </tr>\n",
       "  </thead>\n",
       "  <tbody>\n",
       "    <tr>\n",
       "      <th>count</th>\n",
       "      <td>2051.0</td>\n",
       "      <td>2051.000000</td>\n",
       "      <td>2051.000000</td>\n",
       "      <td>2051.0</td>\n",
       "      <td>2051.000000</td>\n",
       "      <td>2051.000000</td>\n",
       "      <td>2051.000000</td>\n",
       "      <td>2051.000000</td>\n",
       "      <td>2051.0</td>\n",
       "      <td>2051.000000</td>\n",
       "      <td>...</td>\n",
       "      <td>2051.0</td>\n",
       "      <td>2051.0</td>\n",
       "      <td>2.051000e+03</td>\n",
       "      <td>2051.0</td>\n",
       "      <td>2.051000e+03</td>\n",
       "      <td>2.051000e+03</td>\n",
       "      <td>2.051000e+03</td>\n",
       "      <td>2.051000e+03</td>\n",
       "      <td>2.051000e+03</td>\n",
       "      <td>2051.0</td>\n",
       "    </tr>\n",
       "    <tr>\n",
       "      <th>mean</th>\n",
       "      <td>0.0</td>\n",
       "      <td>0.004876</td>\n",
       "      <td>0.096051</td>\n",
       "      <td>0.0</td>\n",
       "      <td>0.005363</td>\n",
       "      <td>0.041931</td>\n",
       "      <td>0.013652</td>\n",
       "      <td>0.036568</td>\n",
       "      <td>0.0</td>\n",
       "      <td>0.023891</td>\n",
       "      <td>...</td>\n",
       "      <td>0.0</td>\n",
       "      <td>0.0</td>\n",
       "      <td>6.170642e+13</td>\n",
       "      <td>0.0</td>\n",
       "      <td>3.550667e+14</td>\n",
       "      <td>1.379436e+26</td>\n",
       "      <td>1.020700e+30</td>\n",
       "      <td>8.917054e+13</td>\n",
       "      <td>3.791507e+30</td>\n",
       "      <td>0.0</td>\n",
       "    </tr>\n",
       "    <tr>\n",
       "      <th>std</th>\n",
       "      <td>0.0</td>\n",
       "      <td>0.069673</td>\n",
       "      <td>0.294733</td>\n",
       "      <td>0.0</td>\n",
       "      <td>0.073055</td>\n",
       "      <td>0.200480</td>\n",
       "      <td>0.116069</td>\n",
       "      <td>0.187743</td>\n",
       "      <td>0.0</td>\n",
       "      <td>0.152746</td>\n",
       "      <td>...</td>\n",
       "      <td>0.0</td>\n",
       "      <td>0.0</td>\n",
       "      <td>3.832101e+14</td>\n",
       "      <td>0.0</td>\n",
       "      <td>1.482419e+15</td>\n",
       "      <td>3.642835e+27</td>\n",
       "      <td>1.209716e+31</td>\n",
       "      <td>3.692525e+14</td>\n",
       "      <td>5.825763e+31</td>\n",
       "      <td>0.0</td>\n",
       "    </tr>\n",
       "    <tr>\n",
       "      <th>min</th>\n",
       "      <td>0.0</td>\n",
       "      <td>0.000000</td>\n",
       "      <td>0.000000</td>\n",
       "      <td>0.0</td>\n",
       "      <td>0.000000</td>\n",
       "      <td>0.000000</td>\n",
       "      <td>0.000000</td>\n",
       "      <td>0.000000</td>\n",
       "      <td>0.0</td>\n",
       "      <td>0.000000</td>\n",
       "      <td>...</td>\n",
       "      <td>0.0</td>\n",
       "      <td>0.0</td>\n",
       "      <td>0.000000e+00</td>\n",
       "      <td>0.0</td>\n",
       "      <td>0.000000e+00</td>\n",
       "      <td>0.000000e+00</td>\n",
       "      <td>0.000000e+00</td>\n",
       "      <td>-5.837280e+14</td>\n",
       "      <td>0.000000e+00</td>\n",
       "      <td>0.0</td>\n",
       "    </tr>\n",
       "    <tr>\n",
       "      <th>25%</th>\n",
       "      <td>0.0</td>\n",
       "      <td>0.000000</td>\n",
       "      <td>0.000000</td>\n",
       "      <td>0.0</td>\n",
       "      <td>0.000000</td>\n",
       "      <td>0.000000</td>\n",
       "      <td>0.000000</td>\n",
       "      <td>0.000000</td>\n",
       "      <td>0.0</td>\n",
       "      <td>0.000000</td>\n",
       "      <td>...</td>\n",
       "      <td>0.0</td>\n",
       "      <td>0.0</td>\n",
       "      <td>1.105832e+12</td>\n",
       "      <td>0.0</td>\n",
       "      <td>0.000000e+00</td>\n",
       "      <td>8.209764e+21</td>\n",
       "      <td>0.000000e+00</td>\n",
       "      <td>4.388489e+12</td>\n",
       "      <td>0.000000e+00</td>\n",
       "      <td>0.0</td>\n",
       "    </tr>\n",
       "    <tr>\n",
       "      <th>50%</th>\n",
       "      <td>0.0</td>\n",
       "      <td>0.000000</td>\n",
       "      <td>0.000000</td>\n",
       "      <td>0.0</td>\n",
       "      <td>0.000000</td>\n",
       "      <td>0.000000</td>\n",
       "      <td>0.000000</td>\n",
       "      <td>0.000000</td>\n",
       "      <td>0.0</td>\n",
       "      <td>0.000000</td>\n",
       "      <td>...</td>\n",
       "      <td>0.0</td>\n",
       "      <td>0.0</td>\n",
       "      <td>8.861910e+12</td>\n",
       "      <td>0.0</td>\n",
       "      <td>0.000000e+00</td>\n",
       "      <td>2.591192e+23</td>\n",
       "      <td>0.000000e+00</td>\n",
       "      <td>1.825634e+13</td>\n",
       "      <td>0.000000e+00</td>\n",
       "      <td>0.0</td>\n",
       "    </tr>\n",
       "    <tr>\n",
       "      <th>75%</th>\n",
       "      <td>0.0</td>\n",
       "      <td>0.000000</td>\n",
       "      <td>0.000000</td>\n",
       "      <td>0.0</td>\n",
       "      <td>0.000000</td>\n",
       "      <td>0.000000</td>\n",
       "      <td>0.000000</td>\n",
       "      <td>0.000000</td>\n",
       "      <td>0.0</td>\n",
       "      <td>0.000000</td>\n",
       "      <td>...</td>\n",
       "      <td>0.0</td>\n",
       "      <td>0.0</td>\n",
       "      <td>3.514533e+13</td>\n",
       "      <td>0.0</td>\n",
       "      <td>0.000000e+00</td>\n",
       "      <td>2.970122e+24</td>\n",
       "      <td>0.000000e+00</td>\n",
       "      <td>6.429936e+13</td>\n",
       "      <td>2.262999e+26</td>\n",
       "      <td>0.0</td>\n",
       "    </tr>\n",
       "    <tr>\n",
       "      <th>max</th>\n",
       "      <td>0.0</td>\n",
       "      <td>1.000000</td>\n",
       "      <td>1.000000</td>\n",
       "      <td>0.0</td>\n",
       "      <td>1.000000</td>\n",
       "      <td>1.000000</td>\n",
       "      <td>1.000000</td>\n",
       "      <td>1.000000</td>\n",
       "      <td>0.0</td>\n",
       "      <td>1.000000</td>\n",
       "      <td>...</td>\n",
       "      <td>0.0</td>\n",
       "      <td>0.0</td>\n",
       "      <td>1.302541e+16</td>\n",
       "      <td>0.0</td>\n",
       "      <td>2.379279e+16</td>\n",
       "      <td>1.323752e+29</td>\n",
       "      <td>2.691501e+32</td>\n",
       "      <td>9.952722e+15</td>\n",
       "      <td>2.366589e+33</td>\n",
       "      <td>0.0</td>\n",
       "    </tr>\n",
       "  </tbody>\n",
       "</table>\n",
       "<p>8 rows × 134 columns</p>\n",
       "</div>"
      ],
      "text/plain": [
       "       new_dumms__20  new_dumms__45  new_dumms__50  new_dumms__60  \\\n",
       "count         2051.0    2051.000000    2051.000000         2051.0   \n",
       "mean             0.0       0.004876       0.096051            0.0   \n",
       "std              0.0       0.069673       0.294733            0.0   \n",
       "min              0.0       0.000000       0.000000            0.0   \n",
       "25%              0.0       0.000000       0.000000            0.0   \n",
       "50%              0.0       0.000000       0.000000            0.0   \n",
       "75%              0.0       0.000000       0.000000            0.0   \n",
       "max              0.0       1.000000       1.000000            0.0   \n",
       "\n",
       "       new_dumms__75  new_dumms__80  new_dumms__85  new_dumms__90  \\\n",
       "count    2051.000000    2051.000000    2051.000000    2051.000000   \n",
       "mean        0.005363       0.041931       0.013652       0.036568   \n",
       "std         0.073055       0.200480       0.116069       0.187743   \n",
       "min         0.000000       0.000000       0.000000       0.000000   \n",
       "25%         0.000000       0.000000       0.000000       0.000000   \n",
       "50%         0.000000       0.000000       0.000000       0.000000   \n",
       "75%         0.000000       0.000000       0.000000       0.000000   \n",
       "max         1.000000       1.000000       1.000000       1.000000   \n",
       "\n",
       "       new_dumms__120  new_dumms__160  ...  new_garage_yr_blt  \\\n",
       "count          2051.0     2051.000000  ...             2051.0   \n",
       "mean              0.0        0.023891  ...                0.0   \n",
       "std               0.0        0.152746  ...                0.0   \n",
       "min               0.0        0.000000  ...                0.0   \n",
       "25%               0.0        0.000000  ...                0.0   \n",
       "50%               0.0        0.000000  ...                0.0   \n",
       "75%               0.0        0.000000  ...                0.0   \n",
       "max               0.0        1.000000  ...                0.0   \n",
       "\n",
       "       new_garage_cars  new_full_bath  new_newhouse_sold_at_age  \\\n",
       "count           2051.0   2.051000e+03                    2051.0   \n",
       "mean               0.0   6.170642e+13                       0.0   \n",
       "std                0.0   3.832101e+14                       0.0   \n",
       "min                0.0   0.000000e+00                       0.0   \n",
       "25%                0.0   1.105832e+12                       0.0   \n",
       "50%                0.0   8.861910e+12                       0.0   \n",
       "75%                0.0   3.514533e+13                       0.0   \n",
       "max                0.0   1.302541e+16                       0.0   \n",
       "\n",
       "       new_newhouse_sold_at_rage  new_newmain_sqft  new_newsum_quals  \\\n",
       "count               2.051000e+03      2.051000e+03      2.051000e+03   \n",
       "mean                3.550667e+14      1.379436e+26      1.020700e+30   \n",
       "std                 1.482419e+15      3.642835e+27      1.209716e+31   \n",
       "min                 0.000000e+00      0.000000e+00      0.000000e+00   \n",
       "25%                 0.000000e+00      8.209764e+21      0.000000e+00   \n",
       "50%                 0.000000e+00      2.591192e+23      0.000000e+00   \n",
       "75%                 0.000000e+00      2.970122e+24      0.000000e+00   \n",
       "max                 2.379279e+16      1.323752e+29      2.691501e+32   \n",
       "\n",
       "       new_newtot_bath  new_newsqft_inter  new_newrecent_build  \n",
       "count     2.051000e+03       2.051000e+03               2051.0  \n",
       "mean      8.917054e+13       3.791507e+30                  0.0  \n",
       "std       3.692525e+14       5.825763e+31                  0.0  \n",
       "min      -5.837280e+14       0.000000e+00                  0.0  \n",
       "25%       4.388489e+12       0.000000e+00                  0.0  \n",
       "50%       1.825634e+13       0.000000e+00                  0.0  \n",
       "75%       6.429936e+13       2.262999e+26                  0.0  \n",
       "max       9.952722e+15       2.366589e+33                  0.0  \n",
       "\n",
       "[8 rows x 134 columns]"
      ]
     },
     "execution_count": 12,
     "metadata": {},
     "output_type": "execute_result"
    }
   ],
   "source": [
    "new_train[list(new_train.filter(regex=\"new_\"))].describe()"
   ]
  },
  {
   "cell_type": "code",
   "execution_count": 56,
   "metadata": {},
   "outputs": [],
   "source": [
    "# for col in list(new_train.filter(regex=\"new_\")):\n",
    "#     if new_train[col].mean() > 100_000:\n",
    "#         new_train[col] = np.sqrt(new_train[col])"
   ]
  },
  {
   "cell_type": "code",
   "execution_count": 57,
   "metadata": {},
   "outputs": [],
   "source": [
    "# new_train['new_main_sqft']=new_train['gr_liv_area']+new_train['total_bsmt_sf']+new_train['garage_area']+new_train['enclosed_porch'] \n",
    "# new_train['new_sum_quals'] = new_train[\"overall_qual\"]+new_train[\"exter_qual\"]+new_train[\"bsmt_qual\"]+new_train[\"kitchen_qual\"]+new_train[\"garage_qual\"]\n",
    "# new_train['new_tot_bath']=new_train['full_bath']+new_train['half_bath']*0.5+new_train['bsmt_full_bath']+new_train['bsmt_half_bath']*0.5\n",
    "# new_train['new_sqft_inter']=(new_train['new_main_sqft']*new_train['new_sum_quals']*new_train['new_tot_bath']).map(np.sqrt)\n",
    "# new_train['recent_build'] = (new_train['year_built']>=2000).astype(int)\n",
    "# new_train.columns"
   ]
  },
  {
   "cell_type": "code",
   "execution_count": 13,
   "metadata": {},
   "outputs": [
    {
     "data": {
      "text/html": [
       "<div>\n",
       "<style scoped>\n",
       "    .dataframe tbody tr th:only-of-type {\n",
       "        vertical-align: middle;\n",
       "    }\n",
       "\n",
       "    .dataframe tbody tr th {\n",
       "        vertical-align: top;\n",
       "    }\n",
       "\n",
       "    .dataframe thead th {\n",
       "        text-align: right;\n",
       "    }\n",
       "</style>\n",
       "<table border=\"1\" class=\"dataframe\">\n",
       "  <thead>\n",
       "    <tr style=\"text-align: right;\">\n",
       "      <th></th>\n",
       "      <th>log_saleprice</th>\n",
       "    </tr>\n",
       "  </thead>\n",
       "  <tbody>\n",
       "    <tr>\n",
       "      <th>log_saleprice</th>\n",
       "      <td>1.000000</td>\n",
       "    </tr>\n",
       "    <tr>\n",
       "      <th>newsqft_inter</th>\n",
       "      <td>0.862721</td>\n",
       "    </tr>\n",
       "    <tr>\n",
       "      <th>newsum_quals</th>\n",
       "      <td>0.848076</td>\n",
       "    </tr>\n",
       "    <tr>\n",
       "      <th>overall_qual</th>\n",
       "      <td>0.822774</td>\n",
       "    </tr>\n",
       "    <tr>\n",
       "      <th>newmain_sqft</th>\n",
       "      <td>0.796352</td>\n",
       "    </tr>\n",
       "    <tr>\n",
       "      <th>exter_qual</th>\n",
       "      <td>0.690333</td>\n",
       "    </tr>\n",
       "    <tr>\n",
       "      <th>gr_liv_area</th>\n",
       "      <td>0.687774</td>\n",
       "    </tr>\n",
       "    <tr>\n",
       "      <th>kitchen_qual</th>\n",
       "      <td>0.681550</td>\n",
       "    </tr>\n",
       "    <tr>\n",
       "      <th>garage_cars</th>\n",
       "      <td>0.667168</td>\n",
       "    </tr>\n",
       "    <tr>\n",
       "      <th>newtot_bath</th>\n",
       "      <td>0.659341</td>\n",
       "    </tr>\n",
       "    <tr>\n",
       "      <th>bin_total_baths</th>\n",
       "      <td>0.659341</td>\n",
       "    </tr>\n",
       "    <tr>\n",
       "      <th>garage_area</th>\n",
       "      <td>0.650243</td>\n",
       "    </tr>\n",
       "    <tr>\n",
       "      <th>bsmt_qual</th>\n",
       "      <td>0.642061</td>\n",
       "    </tr>\n",
       "    <tr>\n",
       "      <th>total_bsmt_sf</th>\n",
       "      <td>0.622162</td>\n",
       "    </tr>\n",
       "    <tr>\n",
       "      <th>1st_flr_sf</th>\n",
       "      <td>0.599086</td>\n",
       "    </tr>\n",
       "    <tr>\n",
       "      <th>garage_finish</th>\n",
       "      <td>0.597879</td>\n",
       "    </tr>\n",
       "    <tr>\n",
       "      <th>full_bath</th>\n",
       "      <td>0.565855</td>\n",
       "    </tr>\n",
       "    <tr>\n",
       "      <th>dumfou_pconc</th>\n",
       "      <td>0.548406</td>\n",
       "    </tr>\n",
       "    <tr>\n",
       "      <th>fireplace_qu</th>\n",
       "      <td>0.542043</td>\n",
       "    </tr>\n",
       "    <tr>\n",
       "      <th>newrecent_build</th>\n",
       "      <td>0.517063</td>\n",
       "    </tr>\n",
       "    <tr>\n",
       "      <th>new_fireplace_qu</th>\n",
       "      <td>0.516681</td>\n",
       "    </tr>\n",
       "    <tr>\n",
       "      <th>new_fireplaces</th>\n",
       "      <td>0.516681</td>\n",
       "    </tr>\n",
       "    <tr>\n",
       "      <th>bin_year_built</th>\n",
       "      <td>0.508940</td>\n",
       "    </tr>\n",
       "    <tr>\n",
       "      <th>heating_qc</th>\n",
       "      <td>0.501934</td>\n",
       "    </tr>\n",
       "  </tbody>\n",
       "</table>\n",
       "</div>"
      ],
      "text/plain": [
       "                  log_saleprice\n",
       "log_saleprice          1.000000\n",
       "newsqft_inter          0.862721\n",
       "newsum_quals           0.848076\n",
       "overall_qual           0.822774\n",
       "newmain_sqft           0.796352\n",
       "exter_qual             0.690333\n",
       "gr_liv_area            0.687774\n",
       "kitchen_qual           0.681550\n",
       "garage_cars            0.667168\n",
       "newtot_bath            0.659341\n",
       "bin_total_baths        0.659341\n",
       "garage_area            0.650243\n",
       "bsmt_qual              0.642061\n",
       "total_bsmt_sf          0.622162\n",
       "1st_flr_sf             0.599086\n",
       "garage_finish          0.597879\n",
       "full_bath              0.565855\n",
       "dumfou_pconc           0.548406\n",
       "fireplace_qu           0.542043\n",
       "newrecent_build        0.517063\n",
       "new_fireplace_qu       0.516681\n",
       "new_fireplaces         0.516681\n",
       "bin_year_built         0.508940\n",
       "heating_qc             0.501934"
      ]
     },
     "execution_count": 13,
     "metadata": {},
     "output_type": "execute_result"
    }
   ],
   "source": [
    "features = all_columns_full + list(new_train.filter(regex=\"new_\"))\n",
    "col = \"log_saleprice\"\n",
    "new_train[\"log_saleprice\"] = new_train[\"saleprice\"].map(np.log)\n",
    "nf = features + [\"log_saleprice\"]\n",
    "new_train[nf].corr()[[col]][new_train[nf].corr()[col] >= 0.50].sort_values(by=col, ascending=False)"
   ]
  },
  {
   "cell_type": "code",
   "execution_count": 64,
   "metadata": {},
   "outputs": [],
   "source": [
    "# X = new_train[all_columns_new]\n",
    "# y = new_train[\"saleprice\"].map(np.log)\n",
    "# ols_X = sm.add_constant(new_train[all_columns])\n",
    "# model_ols = sm.OLS(y,ols_X).fit()\n",
    "# model_ols.summary()"
   ]
  },
  {
   "cell_type": "code",
   "execution_count": 24,
   "metadata": {},
   "outputs": [],
   "source": [
    "from sklearn.model_selection import GridSearchCV"
   ]
  },
  {
   "cell_type": "code",
   "execution_count": 84,
   "metadata": {},
   "outputs": [],
   "source": [
    "X = new_train[all_columns_new]\n",
    "y = new_train[\"saleprice\"].map(np.log)\n",
    "X_train, X_test, y_train, y_test = train_test_split(X,\n",
    "                                                    y,\n",
    "                                                    test_size = 0.33,\n",
    "                                                    random_state = 42)"
   ]
  },
  {
   "cell_type": "code",
   "execution_count": null,
   "metadata": {},
   "outputs": [],
   "source": []
  },
  {
   "cell_type": "code",
   "execution_count": 73,
   "metadata": {},
   "outputs": [
    {
     "name": "stdout",
     "output_type": "stream",
     "text": [
      "Fitting 5 folds for each of 8 candidates, totalling 40 fits\n"
     ]
    },
    {
     "name": "stderr",
     "output_type": "stream",
     "text": [
      "[Parallel(n_jobs=1)]: Using backend SequentialBackend with 1 concurrent workers.\n",
      "[Parallel(n_jobs=1)]: Done  40 out of  40 | elapsed:    0.7s finished\n",
      "/opt/anaconda3/lib/python3.7/site-packages/sklearn/model_selection/_search.py:814: DeprecationWarning: The default of the `iid` parameter will change from True to False in version 0.22 and will be removed in 0.24. This will change numeric results when test-set sizes are unequal.\n",
      "  DeprecationWarning)\n"
     ]
    },
    {
     "data": {
      "text/plain": [
       "GridSearchCV(cv=5, error_score='raise-deprecating',\n",
       "             estimator=LinearRegression(copy_X=True, fit_intercept=True,\n",
       "                                        n_jobs=None, normalize=False),\n",
       "             iid='warn', n_jobs=None,\n",
       "             param_grid={'copy_X': [True, False],\n",
       "                         'fit_intercept': [True, False],\n",
       "                         'normalize': [True, False]},\n",
       "             pre_dispatch='2*n_jobs', refit=True, return_train_score=False,\n",
       "             scoring=None, verbose=1)"
      ]
     },
     "execution_count": 73,
     "metadata": {},
     "output_type": "execute_result"
    }
   ],
   "source": [
    "model = LinearRegression()\n",
    "parameters = {'fit_intercept':[True,False], 'normalize':[True,False], 'copy_X':[True, False]}\n",
    "grid = GridSearchCV(model,parameters, cv=5, verbose=1)\n",
    "grid.fit(X_train, y_train)"
   ]
  },
  {
   "cell_type": "code",
   "execution_count": 74,
   "metadata": {},
   "outputs": [
    {
     "data": {
      "text/plain": [
       "-15013837.560758019"
      ]
     },
     "execution_count": 74,
     "metadata": {},
     "output_type": "execute_result"
    }
   ],
   "source": [
    "grid.best_score_"
   ]
  },
  {
   "cell_type": "code",
   "execution_count": 75,
   "metadata": {},
   "outputs": [
    {
     "data": {
      "text/plain": [
       "{'copy_X': True, 'fit_intercept': True, 'normalize': False}"
      ]
     },
     "execution_count": 75,
     "metadata": {},
     "output_type": "execute_result"
    }
   ],
   "source": [
    "grid.best_params_"
   ]
  },
  {
   "cell_type": "code",
   "execution_count": 76,
   "metadata": {},
   "outputs": [
    {
     "data": {
      "text/plain": [
       "LinearRegression(copy_X=True, fit_intercept=True, n_jobs=None, normalize=False)"
      ]
     },
     "execution_count": 76,
     "metadata": {},
     "output_type": "execute_result"
    }
   ],
   "source": [
    "grid.best_estimator_"
   ]
  },
  {
   "cell_type": "code",
   "execution_count": 77,
   "metadata": {},
   "outputs": [
    {
     "data": {
      "text/plain": [
       "'raise-deprecating'"
      ]
     },
     "execution_count": 77,
     "metadata": {},
     "output_type": "execute_result"
    }
   ],
   "source": [
    "grid.error_score"
   ]
  },
  {
   "cell_type": "code",
   "execution_count": 78,
   "metadata": {},
   "outputs": [
    {
     "data": {
      "text/plain": [
       "count      2051.000000\n",
       "mean     180864.699383\n",
       "std       77375.829797\n",
       "min       14583.486480\n",
       "25%      129637.846710\n",
       "50%      161596.147412\n",
       "75%      214419.353583\n",
       "max      565140.709579\n",
       "Name: salesprice_hat, dtype: float64"
      ]
     },
     "execution_count": 78,
     "metadata": {},
     "output_type": "execute_result"
    }
   ],
   "source": [
    "new_train[\"salesprice_hat\"] = np.exp(grid.predict(X))\n",
    "new_train[\"salesprice_hat\"].describe()"
   ]
  },
  {
   "cell_type": "code",
   "execution_count": null,
   "metadata": {},
   "outputs": [],
   "source": []
  },
  {
   "cell_type": "code",
   "execution_count": null,
   "metadata": {},
   "outputs": [],
   "source": []
  },
  {
   "cell_type": "code",
   "execution_count": 79,
   "metadata": {},
   "outputs": [
    {
     "data": {
      "text/html": [
       "<div>\n",
       "<style scoped>\n",
       "    .dataframe tbody tr th:only-of-type {\n",
       "        vertical-align: middle;\n",
       "    }\n",
       "\n",
       "    .dataframe tbody tr th {\n",
       "        vertical-align: top;\n",
       "    }\n",
       "\n",
       "    .dataframe thead th {\n",
       "        text-align: right;\n",
       "    }\n",
       "</style>\n",
       "<table border=\"1\" class=\"dataframe\">\n",
       "  <thead>\n",
       "    <tr style=\"text-align: right;\">\n",
       "      <th></th>\n",
       "      <th>saleprice</th>\n",
       "      <th>salesprice_hat</th>\n",
       "      <th>residuals</th>\n",
       "    </tr>\n",
       "  </thead>\n",
       "  <tbody>\n",
       "    <tr>\n",
       "      <th>1</th>\n",
       "      <td>220000</td>\n",
       "      <td>226320.711502</td>\n",
       "      <td>6320.711502</td>\n",
       "    </tr>\n",
       "    <tr>\n",
       "      <th>4</th>\n",
       "      <td>138500</td>\n",
       "      <td>130846.634849</td>\n",
       "      <td>7653.365151</td>\n",
       "    </tr>\n",
       "    <tr>\n",
       "      <th>6</th>\n",
       "      <td>140000</td>\n",
       "      <td>141278.141529</td>\n",
       "      <td>1278.141529</td>\n",
       "    </tr>\n",
       "    <tr>\n",
       "      <th>7</th>\n",
       "      <td>142000</td>\n",
       "      <td>135362.322062</td>\n",
       "      <td>6637.677938</td>\n",
       "    </tr>\n",
       "    <tr>\n",
       "      <th>8</th>\n",
       "      <td>112500</td>\n",
       "      <td>107898.956132</td>\n",
       "      <td>4601.043868</td>\n",
       "    </tr>\n",
       "    <tr>\n",
       "      <th>...</th>\n",
       "      <td>...</td>\n",
       "      <td>...</td>\n",
       "      <td>...</td>\n",
       "    </tr>\n",
       "    <tr>\n",
       "      <th>2039</th>\n",
       "      <td>93900</td>\n",
       "      <td>87173.538362</td>\n",
       "      <td>6726.461638</td>\n",
       "    </tr>\n",
       "    <tr>\n",
       "      <th>2041</th>\n",
       "      <td>412500</td>\n",
       "      <td>419082.710255</td>\n",
       "      <td>6582.710255</td>\n",
       "    </tr>\n",
       "    <tr>\n",
       "      <th>2043</th>\n",
       "      <td>128000</td>\n",
       "      <td>133193.193821</td>\n",
       "      <td>5193.193821</td>\n",
       "    </tr>\n",
       "    <tr>\n",
       "      <th>2048</th>\n",
       "      <td>177000</td>\n",
       "      <td>186067.136494</td>\n",
       "      <td>9067.136494</td>\n",
       "    </tr>\n",
       "    <tr>\n",
       "      <th>2050</th>\n",
       "      <td>189000</td>\n",
       "      <td>189409.517283</td>\n",
       "      <td>409.517283</td>\n",
       "    </tr>\n",
       "  </tbody>\n",
       "</table>\n",
       "<p>1208 rows × 3 columns</p>\n",
       "</div>"
      ],
      "text/plain": [
       "      saleprice  salesprice_hat    residuals\n",
       "1        220000   226320.711502  6320.711502\n",
       "4        138500   130846.634849  7653.365151\n",
       "6        140000   141278.141529  1278.141529\n",
       "7        142000   135362.322062  6637.677938\n",
       "8        112500   107898.956132  4601.043868\n",
       "...         ...             ...          ...\n",
       "2039      93900    87173.538362  6726.461638\n",
       "2041     412500   419082.710255  6582.710255\n",
       "2043     128000   133193.193821  5193.193821\n",
       "2048     177000   186067.136494  9067.136494\n",
       "2050     189000   189409.517283   409.517283\n",
       "\n",
       "[1208 rows x 3 columns]"
      ]
     },
     "execution_count": 79,
     "metadata": {},
     "output_type": "execute_result"
    }
   ],
   "source": [
    "new_train[\"residuals\"] = abs(new_train[\"saleprice\"] - new_train[\"salesprice_hat\"])\n",
    "new_train.loc[new_train[\"residuals\"] < 10_000, [\"saleprice\", \"salesprice_hat\", \"residuals\"]]"
   ]
  },
  {
   "cell_type": "code",
   "execution_count": 87,
   "metadata": {},
   "outputs": [
    {
     "data": {
      "text/plain": [
       "197602.71395967185"
      ]
     },
     "execution_count": 87,
     "metadata": {},
     "output_type": "execute_result"
    }
   ],
   "source": [
    "np.sqrt(mean_squared_error(y_test, np.exp(grid.predict(X_test))))"
   ]
  },
  {
   "cell_type": "code",
   "execution_count": 88,
   "metadata": {},
   "outputs": [
    {
     "data": {
      "text/plain": [
       "196256.88545218925"
      ]
     },
     "execution_count": 88,
     "metadata": {},
     "output_type": "execute_result"
    }
   ],
   "source": [
    "np.sqrt(mean_squared_error(y_train, np.exp(grid.predict(X_train))))"
   ]
  },
  {
   "cell_type": "code",
   "execution_count": 90,
   "metadata": {},
   "outputs": [
    {
     "data": {
      "text/plain": [
       "182430.58188921757"
      ]
     },
     "execution_count": 90,
     "metadata": {},
     "output_type": "execute_result"
    }
   ],
   "source": [
    "mean_absolute_error(y_test, np.exp(grid.predict(X_test)))"
   ]
  },
  {
   "cell_type": "code",
   "execution_count": 91,
   "metadata": {},
   "outputs": [
    {
     "data": {
      "text/plain": [
       "180075.2055709836"
      ]
     },
     "execution_count": 91,
     "metadata": {},
     "output_type": "execute_result"
    }
   ],
   "source": [
    "mean_absolute_error(y_train, np.exp(grid.predict(X_train)))"
   ]
  },
  {
   "cell_type": "code",
   "execution_count": 96,
   "metadata": {},
   "outputs": [
    {
     "data": {
      "image/png": "[encoded data removed]",
      "text/plain": [
       "<Figure size 360x360 with 1 Axes>"
      ]
     },
     "metadata": {},
     "output_type": "display_data"
    }
   ],
   "source": [
    "#Plotting 9th  LR prediction model\n",
    "plt.figure(figsize=(5,5))\n",
    "\n",
    "y_hat = np.exp(grid.predict(X))\n",
    "\n",
    "# Generate a scatterplot of predicted values versus actual values.\n",
    "plt.scatter(y_hat, new_train[\"saleprice\"], s=5, color='lime', alpha = 0.5)\n",
    "\n",
    "##Absolute \n",
    "sns.lineplot([0, np.max(y_hat)], [0, np.max(y_hat)], color=\"white\", linewidth=2)\n",
    "\n",
    "# Tweak title and axis labels.\n",
    "plt.xlabel(\"Predicted Values: $\\hat{y}$\", fontsize = 20)\n",
    "plt.ylabel(\"Actual Values: $y$\", fontsize = 20)\n",
    "plt.title('Predicted Values vs. Actual Values', fontsize = 24);"
   ]
  },
  {
   "cell_type": "code",
   "execution_count": 102,
   "metadata": {},
   "outputs": [
    {
     "data": {
      "text/plain": [
       "<matplotlib.axes._subplots.AxesSubplot at 0x1c2faf3050>"
      ]
     },
     "execution_count": 102,
     "metadata": {},
     "output_type": "execute_result"
    },
    {
     "data": {
      "image/png": "[encoded data removed]",
      "text/plain": [
       "<Figure size 432x288 with 1 Axes>"
      ]
     },
     "metadata": {},
     "output_type": "display_data"
    }
   ],
   "source": [
    "sns.scatterplot(new_train[\"gr_liv_area\"], new_train[\"saleprice\"])\n",
    "sns.scatterplot(new_train[\"gr_liv_area\"], new_train[\"salesprice_hat\"])"
   ]
  },
  {
   "cell_type": "code",
   "execution_count": 103,
   "metadata": {},
   "outputs": [
    {
     "data": {
      "text/plain": [
       "<matplotlib.axes._subplots.AxesSubplot at 0x1c2fb93d50>"
      ]
     },
     "execution_count": 103,
     "metadata": {},
     "output_type": "execute_result"
    },
    {
     "data": {
      "image/png": "[encoded data removed]",
      "text/plain": [
       "<Figure size 432x288 with 1 Axes>"
      ]
     },
     "metadata": {},
     "output_type": "display_data"
    }
   ],
   "source": [
    "sns.scatterplot(new_train[\"newsqft_inter\"], new_train[\"saleprice\"])\n",
    "sns.scatterplot(new_train[\"newsqft_inter\"], new_train[\"salesprice_hat\"])"
   ]
  },
  {
   "cell_type": "code",
   "execution_count": 61,
   "metadata": {},
   "outputs": [],
   "source": [
    "# pm = PredictionMetrics(grid, X_train, X_test, y_train, y_test, True)\n",
    "# pm.metric_df"
   ]
  },
  {
   "cell_type": "code",
   "execution_count": 62,
   "metadata": {},
   "outputs": [
    {
     "data": {
      "text/plain": [
       "<bound method BaseSearchCV.score of GridSearchCV(cv=5, error_score='raise-deprecating',\n",
       "             estimator=LinearRegression(copy_X=True, fit_intercept=True,\n",
       "                                        n_jobs=None, normalize=False),\n",
       "             iid='warn', n_jobs=None,\n",
       "             param_grid={'copy_X': [True, False],\n",
       "                         'fit_intercept': [True, False],\n",
       "                         'normalize': [True, False]},\n",
       "             pre_dispatch='2*n_jobs', refit=True, return_train_score=False,\n",
       "             scoring=None, verbose=1)>"
      ]
     },
     "execution_count": 62,
     "metadata": {},
     "output_type": "execute_result"
    }
   ],
   "source": [
    "grid.score"
   ]
  },
  {
   "cell_type": "code",
   "execution_count": 46,
   "metadata": {},
   "outputs": [],
   "source": [
    "from sklearn.pipeline import Pipeline"
   ]
  },
  {
   "cell_type": "code",
   "execution_count": 65,
   "metadata": {},
   "outputs": [],
   "source": [
    "\n",
    "# Instantiate a StandardScaler + kNN pipeline.\n",
    "pipe = Pipeline([\n",
    "    ('ss', StandardScaler()),\n",
    "    ('lr', LinearRegression(),\n",
    "    ('gs', ))\n",
    "])"
   ]
  },
  {
   "cell_type": "code",
   "execution_count": 66,
   "metadata": {},
   "outputs": [
    {
     "data": {
      "text/plain": [
       "Pipeline(memory=None,\n",
       "         steps=[('ss',\n",
       "                 StandardScaler(copy=True, with_mean=True, with_std=True)),\n",
       "                ('lr',\n",
       "                 LinearRegression(copy_X=True, fit_intercept=True, n_jobs=None,\n",
       "                                  normalize=False))],\n",
       "         verbose=False)"
      ]
     },
     "execution_count": 66,
     "metadata": {},
     "output_type": "execute_result"
    }
   ],
   "source": [
    "\n",
    "# Fit.\n",
    "pipe.fit(X_train, y_train)"
   ]
  },
  {
   "cell_type": "code",
   "execution_count": 67,
   "metadata": {},
   "outputs": [
    {
     "data": {
      "text/plain": [
       "-5.476640259095432e+23"
      ]
     },
     "execution_count": 67,
     "metadata": {},
     "output_type": "execute_result"
    }
   ],
   "source": [
    "\n",
    "# Evaluate.\n",
    "pipe.score(X_test, y_test)"
   ]
  },
  {
   "cell_type": "code",
   "execution_count": 68,
   "metadata": {},
   "outputs": [
    {
     "data": {
      "text/plain": [
       "{'memory': None,\n",
       " 'steps': [('ss', StandardScaler(copy=True, with_mean=True, with_std=True)),\n",
       "  ('lr',\n",
       "   LinearRegression(copy_X=True, fit_intercept=True, n_jobs=None, normalize=False))],\n",
       " 'verbose': False,\n",
       " 'ss': StandardScaler(copy=True, with_mean=True, with_std=True),\n",
       " 'lr': LinearRegression(copy_X=True, fit_intercept=True, n_jobs=None, normalize=False),\n",
       " 'ss__copy': True,\n",
       " 'ss__with_mean': True,\n",
       " 'ss__with_std': True,\n",
       " 'lr__copy_X': True,\n",
       " 'lr__fit_intercept': True,\n",
       " 'lr__n_jobs': None,\n",
       " 'lr__normalize': False}"
      ]
     },
     "execution_count": 68,
     "metadata": {},
     "output_type": "execute_result"
    }
   ],
   "source": [
    "pipe.get_params()"
   ]
  },
  {
   "cell_type": "code",
   "execution_count": null,
   "metadata": {},
   "outputs": [],
   "source": []
  }
 ],
 "metadata": {
  "kernelspec": {
   "display_name": "Python 3",
   "language": "python",
   "name": "python3"
  },
  "language_info": {
   "codemirror_mode": {
    "name": "ipython",
    "version": 3
   },
   "file_extension": ".py",
   "mimetype": "text/x-python",
   "name": "python",
   "nbconvert_exporter": "python",
   "pygments_lexer": "ipython3",
   "version": "3.7.4"
  }
 },
 "nbformat": 4,
 "nbformat_minor": 2
}
