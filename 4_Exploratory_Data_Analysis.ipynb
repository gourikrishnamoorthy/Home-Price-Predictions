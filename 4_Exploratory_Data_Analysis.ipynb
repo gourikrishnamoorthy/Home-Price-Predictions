{
 "cells": [
  {
   "cell_type": "markdown",
   "metadata": {},
   "source": [
    "# Continued EDA/Modelling/Predictions"
   ]
  },
  {
   "cell_type": "code",
   "execution_count": 525,
   "metadata": {},
   "outputs": [],
   "source": [
    "import pandas as pd\n",
    "import numpy as np\n",
    "import matplotlib.pyplot as plt\n",
    "import seaborn as sns\n",
    "from sklearn.linear_model import LinearRegression, LassoCV, RidgeCV\n",
    "from sklearn.metrics import mean_squared_error, r2_score, mean_absolute_error\n",
    "from sklearn.model_selection import train_test_split, cross_val_score\n",
    "from scipy.stats import stats\n",
    "import statsmodels.api as sm\n",
    "from sklearn.preprocessing import StandardScaler, PolynomialFeatures\n",
    "from PredMetric.PMetrics import PredictionMetrics\n",
    "\n",
    "plt.style.use('dark_background')"
   ]
  },
  {
   "cell_type": "code",
   "execution_count": 526,
   "metadata": {},
   "outputs": [],
   "source": [
    "train = pd.read_csv(\"./interim_datasets/train_interim.csv\")\n",
    "kaggle = pd.read_csv(\"./interim_datasets/kaggle_interim.csv\")"
   ]
  },
  {
   "cell_type": "code",
   "execution_count": 527,
   "metadata": {},
   "outputs": [],
   "source": [
    "nominal_cols = [\"MS SubClass\", \"MS Zoning\", \"Street\", \"Alley\", \"Land Contour\", \"Lot Config\", \"Neighborhood\",\"Condition 1\",\"Condition 2\",\"Bldg Type\", \"House Style\", \"Roof Style\", \"Roof Matl\", \"Exterior 1st\", \"Exterior 2nd\", \"Mas Vnr Type\", \"Foundation\", \"Heating\", \"Central Air\", \"Garage Type\", \"Misc Feature\"]\n",
    "ordinal_cols = [\"Lot Shape\", \"Utilities\", \"Land Slope\", \"Overall Qual\", \"Overall Cond\", \"Exter Qual\", \"Exter Cond\", \"Bsmt Qual\", \"Bsmt Cond\", \"Bsmt Exposure\", \"BsmtFin Type 1\", \"BsmtFin Type 2\", \"Heating QC\", \"Electrical\", \"Kitchen Qual\", \"Functional\", \"Fireplace Qu\", \"Garage Finish\", \"Garage Qual\", \"Garage Cond\", \"Paved Drive\", \"Pool QC\", \"Fence\"]\n",
    "continuous_cols = [\"Lot Frontage\", \"Lot Area\", \"Mas Vnr Area\", \"BsmtFin SF 1\", \"BsmtFin SF 2\", \"Bsmt Unf SF\", \"Total Bsmt SF\", \"1st Flr SF\", \"2nd Flr SF\", \"Low Qual Fin SF\", \"Gr Liv Area\", \"Garage Area\", \"Wood Deck SF\", \"Open Porch SF\", \"Enclosed Porch\", \"3Ssn Porch\", \"Screen Porch\", \"Pool Area\", \"Misc Val\"]\n",
    "discrete_cols = [\"Year Built\", \"Year Remod/Add\", \"Bsmt Full Bath\", \"Bsmt Half Bath\", \"Full Bath\", \"Half Bath\", \"Bedroom abvgr\", \"Kitchen abvgr\", \"totrms abvgrd\", \"Fireplaces\", \"Garage Yr Blt\", \"Garage Cars\", \"Mo Sold\" ,\"Yr Sold\"]"
   ]
  },
  {
   "cell_type": "code",
   "execution_count": 528,
   "metadata": {},
   "outputs": [],
   "source": [
    "def convert(x):\n",
    "    return x.lower().replace(\" \", \"_\")\n",
    "\n",
    "nominal_con_cols = [convert(x) for x in nominal_cols]\n",
    "ordinal_con_cols = {convert(x):{} for x in ordinal_cols}\n",
    "continuous_con_cols = [convert(x) for x in continuous_cols]\n",
    "discrete_con_cols = [convert(x) for x in discrete_cols]"
   ]
  },
  {
   "cell_type": "code",
   "execution_count": 529,
   "metadata": {},
   "outputs": [],
   "source": [
    "all_columns = list(train.filter(regex=\"dum\")) + \\\n",
    "              list(ordinal_con_cols.keys()) + continuous_con_cols + \\\n",
    "              list(train.filter(regex=\"bin\")) + \\\n",
    "              [\"totrms_abvgrd\", \"fireplaces\", \"garage_yr_blt\", \"garage_cars\", \"mo_sold\", \"yr_sold\", \"full_bath\"]"
   ]
  },
  {
   "cell_type": "code",
   "execution_count": 530,
   "metadata": {},
   "outputs": [
    {
     "data": {
      "text/plain": [
       "1699    2207.0\n",
       "Name: garage_yr_blt, dtype: float64"
      ]
     },
     "execution_count": 530,
     "metadata": {},
     "output_type": "execute_result"
    }
   ],
   "source": [
    "#Remove outliers for Lot Frontage and Gr Liv Area\n",
    "new_train = train.drop([960, 1885, 471,694]) \n",
    "new_train[new_train['garage_yr_blt']>2020]['garage_yr_blt']"
   ]
  },
  {
   "cell_type": "code",
   "execution_count": 531,
   "metadata": {},
   "outputs": [],
   "source": [
    "new_train.at[1699, [\"garage_yr_blt\"]] = 2007"
   ]
  },
  {
   "cell_type": "code",
   "execution_count": 532,
   "metadata": {},
   "outputs": [
    {
     "data": {
      "text/plain": [
       "Series([], Name: garage_yr_blt, dtype: float64)"
      ]
     },
     "execution_count": 532,
     "metadata": {},
     "output_type": "execute_result"
    }
   ],
   "source": [
    "new_train[new_train['garage_yr_blt']>2020]['garage_yr_blt']"
   ]
  },
  {
   "cell_type": "code",
   "execution_count": 533,
   "metadata": {},
   "outputs": [],
   "source": [
    "###Interaction Terms:"
   ]
  },
  {
   "cell_type": "code",
   "execution_count": 534,
   "metadata": {},
   "outputs": [],
   "source": [
    "new_train[\"new_bath_beds\"] = new_train[\"bin_total_baths\"] * new_train[\"bedroom_abvgr\"]"
   ]
  },
  {
   "cell_type": "code",
   "execution_count": 535,
   "metadata": {},
   "outputs": [],
   "source": [
    "new_train[\"new_bath_beds_kit\"] = new_train[\"new_bath_beds\"] * new_train[\"kitchen_abvgr\"]"
   ]
  },
  {
   "cell_type": "code",
   "execution_count": 536,
   "metadata": {},
   "outputs": [],
   "source": [
    "new_train[\"new_house_age\"] = new_train[\"yr_sold\"]  - new_train[\"year_built\"]"
   ]
  },
  {
   "cell_type": "code",
   "execution_count": 537,
   "metadata": {},
   "outputs": [],
   "source": [
    "new_train[\"new_age_fireplace\"] = new_train[\"new_house_age\"] * new_train[\"fireplaces\"] "
   ]
  },
  {
   "cell_type": "code",
   "execution_count": 538,
   "metadata": {},
   "outputs": [],
   "source": [
    "new_train[\"new_yr_sold_ordinal\"] = new_train[\"yr_sold\"]  - new_train[\"yr_sold\"].min()"
   ]
  },
  {
   "cell_type": "code",
   "execution_count": 539,
   "metadata": {},
   "outputs": [],
   "source": [
    "new_train[\"new_yr_sold_ord_age\"] = new_train[\"new_yr_sold_ordinal\"]  * new_train[\"new_house_age\"]"
   ]
  },
  {
   "cell_type": "code",
   "execution_count": 540,
   "metadata": {},
   "outputs": [],
   "source": [
    "new_train[\"new_yr_blt_remod_sold\"] = (new_train[\"year_built\"]/new_train[\"year_remod/add\"]/new_train[\"yr_sold\"]) * 100_000"
   ]
  },
  {
   "cell_type": "code",
   "execution_count": 541,
   "metadata": {},
   "outputs": [],
   "source": [
    "new_train[\"new_lot_frontage_area_yso\"]  = new_train[\"lot_frontage\"] * new_train[\"lot_area\"] * new_train[\"new_yr_sold_ordinal\"]"
   ]
  },
  {
   "cell_type": "code",
   "execution_count": 542,
   "metadata": {},
   "outputs": [
    {
     "data": {
      "text/plain": [
       "['new_bath_beds',\n",
       " 'new_bath_beds_kit',\n",
       " 'new_house_age',\n",
       " 'new_age_fireplace',\n",
       " 'new_yr_sold_ordinal',\n",
       " 'new_yr_sold_ord_age',\n",
       " 'new_yr_blt_remod_sold',\n",
       " 'new_lot_frontage_area_yso']"
      ]
     },
     "execution_count": 542,
     "metadata": {},
     "output_type": "execute_result"
    }
   ],
   "source": [
    "list(new_train.filter(regex=\"new\").columns)"
   ]
  },
  {
   "cell_type": "code",
   "execution_count": 543,
   "metadata": {},
   "outputs": [],
   "source": [
    "###Combined all the relevant features so far"
   ]
  },
  {
   "cell_type": "code",
   "execution_count": 544,
   "metadata": {},
   "outputs": [],
   "source": [
    "revised_features = ['bin_total_baths',\n",
    " 'bin_year_built',\n",
    " 'bsmt_cond',\n",
    " 'bsmt_exposure',\n",
    " 'bsmt_qual',\n",
    " 'bsmtfin_sf_1',\n",
    " 'dumcon_posa.1',\n",
    " 'dumext_brkface',\n",
    " 'dummis_elev',\n",
    " 'dummis_tenc',\n",
    " 'dumms__20',\n",
    " 'dumms__60',\n",
    " 'dumnei_grnhill',\n",
    " 'dumnei_noridge',\n",
    " 'dumnei_nridght',\n",
    " 'dumnei_nwames',\n",
    " 'dumnei_stonebr',\n",
    " 'dumroo_wdshngl',\n",
    " 'exter_qual',\n",
    " 'functional',\n",
    " 'kitchen_qual',\n",
    " 'lot_area',\n",
    " 'mas_vnr_area',\n",
    " 'overall_qual',\n",
    " 'screen_porch',\n",
    " 'gr_liv_area', \n",
    " '1st_flr_sf', \n",
    " 'garage_area', \n",
    " 'total_bsmt_sf',\n",
    " 'new_bath_beds',\n",
    " 'new_house_age',\n",
    " 'new_yr_sold_ordinal',\n",
    " 'new_yr_sold_ord_age']"
   ]
  },
  {
   "cell_type": "code",
   "execution_count": 545,
   "metadata": {},
   "outputs": [],
   "source": [
    "##creating a poly for all the above selected features\n",
    "poly_revised_features = ['overall_qual overall_qual',\n",
    " 'garage_area overall_qual',\n",
    " 'gr_liv_area kitchen_qual',\n",
    " '1st_flr_sf overall_qual',\n",
    " 'overall_qual total_bsmt_sf',\n",
    " 'bin_total_baths bsmt_qual',\n",
    " '1st_flr_sf total_bsmt_sf',\n",
    " '1st_flr_sf dumnei_nridght',\n",
    " 'gr_liv_area lot_area',\n",
    " 'bsmt_cond bsmtfin_sf_1',\n",
    " 'bsmt_exposure lot_area',\n",
    " '1st_flr_sf lot_area',\n",
    " 'dumms__60 lot_area',\n",
    " 'dumms__60 functional',\n",
    " 'bsmt_exposure dumms__20',\n",
    " 'bsmtfin_sf_1 dumms__20',\n",
    " 'dumnei_noridge lot_area',\n",
    " 'functional functional',\n",
    " 'dumms__20 functional',\n",
    " 'dumext_brkface overall_qual',\n",
    " 'dumnei_grnhill lot_area',\n",
    " 'dummis_tenc screen_porch',\n",
    " 'dummis_tenc overall_qual',\n",
    " 'dummis_tenc functional',\n",
    " 'dummis_tenc kitchen_qual',\n",
    " 'dummis_tenc dumnei_nwames',\n",
    " 'dummis_tenc dumms__60',\n",
    " 'dummis_tenc dummis_tenc',\n",
    " 'bsmt_qual dummis_tenc',\n",
    " 'bin_year_built dummis_tenc',\n",
    " 'dummis_tenc garage_area',\n",
    " 'bin_total_baths dummis_tenc',\n",
    " 'dummis_tenc gr_liv_area',\n",
    " 'dummis_tenc total_bsmt_sf',\n",
    " '1st_flr_sf dummis_tenc',\n",
    " 'bsmtfin_sf_1 dummis_tenc',\n",
    " 'dummis_tenc exter_qual',\n",
    " 'bsmt_cond dummis_tenc',\n",
    " 'dummis_tenc lot_area',\n",
    " 'dummis_tenc mas_vnr_area',\n",
    " 'bedroom_abvgr fireplaces',\n",
    " 'half_bath half_bath',\n",
    " 'low_qual_fin_sf open_porch_sf',\n",
    " '1st_flr_sf bedroom_abvgr',\n",
    " 'kitchen_abvgr totrms_abvgrd',\n",
    " 'bsmt_unf_sf garage_yr_blt',\n",
    " 'bsmtfin_sf_1 year_built',\n",
    " 'total_bsmt_sf yr_sold',\n",
    " 'total_bsmt_sf year_remod/add',\n",
    " 'gr_liv_area year_remod/add',\n",
    " 'bedroom_abvgr garage_cars',\n",
    " 'total_bsmt_sf year_built',\n",
    " 'lot_area total_bsmt_sf',\n",
    " 'bedroom_abvgr totrms_abvgrd']"
   ]
  },
  {
   "cell_type": "code",
   "execution_count": 546,
   "metadata": {},
   "outputs": [],
   "source": [
    "make_poly = []\n",
    "for p in poly_revised_features:\n",
    "    cols = p.split(\" \")\n",
    "    make_poly.append([cols[0], cols[1], p])"
   ]
  },
  {
   "cell_type": "code",
   "execution_count": 547,
   "metadata": {},
   "outputs": [],
   "source": [
    "for cols in make_poly:\n",
    "    new_train[cols[2]] = new_train[cols[0]] * new_train[cols[1]]"
   ]
  },
  {
   "cell_type": "code",
   "execution_count": 548,
   "metadata": {},
   "outputs": [
    {
     "data": {
      "text/plain": [
       "(2047, 317)"
      ]
     },
     "execution_count": 548,
     "metadata": {},
     "output_type": "execute_result"
    }
   ],
   "source": [
    "new_train.shape"
   ]
  },
  {
   "cell_type": "code",
   "execution_count": 571,
   "metadata": {},
   "outputs": [
    {
     "data": {
      "text/plain": [
       "(2047, 87)"
      ]
     },
     "execution_count": 571,
     "metadata": {},
     "output_type": "execute_result"
    }
   ],
   "source": [
    "combined_features = revised_features + poly_revised_features\n",
    "new_train[combined_features].shape"
   ]
  },
  {
   "cell_type": "code",
   "execution_count": 575,
   "metadata": {},
   "outputs": [
    {
     "data": {
      "image/png": "[encoded data removed]",
      "text/plain": [
       "<Figure size 720x720 with 2 Axes>"
      ]
     },
     "metadata": {},
     "output_type": "display_data"
    }
   ],
   "source": [
    "nf = list(new_train.filter(regex=\"new\").columns) + [\"saleprice\"]\n",
    "plt.figure(figsize=(10,10))\n",
    "sns.heatmap(new_train[nf].corr()[['saleprice']].sort_values(by='saleprice', ascending=False),\n",
    "            vmin=-1,\n",
    "            cmap='coolwarm',\n",
    "            annot=True);"
   ]
  },
  {
   "cell_type": "code",
   "execution_count": 550,
   "metadata": {},
   "outputs": [],
   "source": [
    "# y = new_train[\"saleprice\"].map(np.log)\n",
    "# X = new_train[combined_features]\n",
    "# ols_X = sm.add_constant(X)\n",
    "# model_ols = sm.OLS(y,ols_X).fit()\n",
    "# m = model_ols.summary()"
   ]
  },
  {
   "cell_type": "code",
   "execution_count": 551,
   "metadata": {},
   "outputs": [],
   "source": [
    "# re_revised_features = []\n",
    "# for i in range(1, len(m.tables[1].data)):\n",
    "#     if float(m.tables[1].data[i][4]) <= 0.05:\n",
    "#         re_revised_features.append(m.tables[1].data[i][0])\n",
    "\n",
    "# re_revised_features.remove(\"const\")\n",
    "# X = new_train[re_revised_features]\n",
    "# ols_X = sm.add_constant(X)\n",
    "# model_ols = sm.OLS(y,ols_X).fit()\n",
    "# m = model_ols.summary()\n",
    "# model_ols.summary()"
   ]
  },
  {
   "cell_type": "code",
   "execution_count": 552,
   "metadata": {},
   "outputs": [],
   "source": [
    "X = new_train[combined_features]\n",
    "y = new_train[\"saleprice\"].map(np.log)\n",
    "X_train, X_test, y_train, y_test = train_test_split(X,y, random_state=42)"
   ]
  },
  {
   "cell_type": "code",
   "execution_count": 553,
   "metadata": {},
   "outputs": [],
   "source": [
    "lr = LinearRegression()\n",
    "lr.fit(X_train,y_train)\n",
    "\n",
    "y_train = np.exp(y_train)\n",
    "y_test = np.exp(y_test)"
   ]
  },
  {
   "cell_type": "code",
   "execution_count": 554,
   "metadata": {},
   "outputs": [
    {
     "data": {
      "text/html": [
       "<div>\n",
       "<style scoped>\n",
       "    .dataframe tbody tr th:only-of-type {\n",
       "        vertical-align: middle;\n",
       "    }\n",
       "\n",
       "    .dataframe tbody tr th {\n",
       "        vertical-align: top;\n",
       "    }\n",
       "\n",
       "    .dataframe thead th {\n",
       "        text-align: right;\n",
       "    }\n",
       "</style>\n",
       "<table border=\"1\" class=\"dataframe\">\n",
       "  <thead>\n",
       "    <tr style=\"text-align: right;\">\n",
       "      <th></th>\n",
       "      <th>Scores</th>\n",
       "      <th>Train</th>\n",
       "      <th>Test</th>\n",
       "      <th>Result</th>\n",
       "      <th>Percent</th>\n",
       "    </tr>\n",
       "  </thead>\n",
       "  <tbody>\n",
       "    <tr>\n",
       "      <th>0</th>\n",
       "      <td>lr.score</td>\n",
       "      <td>-5.2999</td>\n",
       "      <td>-5.07974</td>\n",
       "      <td>Train &lt; Test</td>\n",
       "      <td>4.33402</td>\n",
       "    </tr>\n",
       "    <tr>\n",
       "      <th>1</th>\n",
       "      <td>r2_score</td>\n",
       "      <td>0.932637</td>\n",
       "      <td>0.933214</td>\n",
       "      <td>Train &lt; Test</td>\n",
       "      <td>-0.0618238</td>\n",
       "    </tr>\n",
       "    <tr>\n",
       "      <th>2</th>\n",
       "      <td>mean cross_val_score</td>\n",
       "      <td>0.919932</td>\n",
       "      <td>0.905155</td>\n",
       "      <td>Train &gt; Test</td>\n",
       "      <td>1.63248</td>\n",
       "    </tr>\n",
       "    <tr>\n",
       "      <th>3</th>\n",
       "      <td>mean_squared_error</td>\n",
       "      <td>4.25629e+08</td>\n",
       "      <td>4.09398e+08</td>\n",
       "      <td>Train &gt; Test</td>\n",
       "      <td>3.96471</td>\n",
       "    </tr>\n",
       "    <tr>\n",
       "      <th>4</th>\n",
       "      <td>root mean squared error</td>\n",
       "      <td>20630.8</td>\n",
       "      <td>20233.6</td>\n",
       "      <td>Train &gt; Test</td>\n",
       "      <td>1.96308</td>\n",
       "    </tr>\n",
       "    <tr>\n",
       "      <th>5</th>\n",
       "      <td>residual mean</td>\n",
       "      <td>14455.7</td>\n",
       "      <td>14349.3</td>\n",
       "      <td>Train &gt; Test</td>\n",
       "      <td>0.741567</td>\n",
       "    </tr>\n",
       "    <tr>\n",
       "      <th>6</th>\n",
       "      <td>cross_val_score</td>\n",
       "      <td>[0.908, 0.936, 0.905, 0.919, 0.931]</td>\n",
       "      <td>[0.924, 0.93, 0.85, 0.902, 0.919]</td>\n",
       "      <td>NaN</td>\n",
       "      <td>NaN</td>\n",
       "    </tr>\n",
       "  </tbody>\n",
       "</table>\n",
       "</div>"
      ],
      "text/plain": [
       "                    Scores                                Train  \\\n",
       "0                 lr.score                              -5.2999   \n",
       "1                 r2_score                             0.932637   \n",
       "2     mean cross_val_score                             0.919932   \n",
       "3       mean_squared_error                          4.25629e+08   \n",
       "4  root mean squared error                              20630.8   \n",
       "5            residual mean                              14455.7   \n",
       "6          cross_val_score  [0.908, 0.936, 0.905, 0.919, 0.931]   \n",
       "\n",
       "                                Test        Result    Percent  \n",
       "0                           -5.07974  Train < Test    4.33402  \n",
       "1                           0.933214  Train < Test -0.0618238  \n",
       "2                           0.905155  Train > Test    1.63248  \n",
       "3                        4.09398e+08  Train > Test    3.96471  \n",
       "4                            20233.6  Train > Test    1.96308  \n",
       "5                            14349.3  Train > Test   0.741567  \n",
       "6  [0.924, 0.93, 0.85, 0.902, 0.919]           NaN        NaN  "
      ]
     },
     "execution_count": 554,
     "metadata": {},
     "output_type": "execute_result"
    }
   ],
   "source": [
    "pm = PredictionMetrics(lr, X_train, X_test, y_train, y_test, True)\n",
    "pm.metric_df"
   ]
  },
  {
   "cell_type": "code",
   "execution_count": 555,
   "metadata": {},
   "outputs": [
    {
     "name": "stderr",
     "output_type": "stream",
     "text": [
      "/opt/anaconda3/lib/python3.7/site-packages/numpy/core/fromnumeric.py:2495: FutureWarning: Method .ptp is deprecated and will be removed in a future version. Use numpy.ptp instead.\n",
      "  return ptp(axis=axis, out=out, **kwargs)\n"
     ]
    },
    {
     "data": {
      "text/html": [
       "<table class=\"simpletable\">\n",
       "<caption>OLS Regression Results</caption>\n",
       "<tr>\n",
       "  <th>Dep. Variable:</th>        <td>saleprice</td>    <th>  R-squared:         </th> <td>   0.911</td>\n",
       "</tr>\n",
       "<tr>\n",
       "  <th>Model:</th>                   <td>OLS</td>       <th>  Adj. R-squared:    </th> <td>   0.908</td>\n",
       "</tr>\n",
       "<tr>\n",
       "  <th>Method:</th>             <td>Least Squares</td>  <th>  F-statistic:       </th> <td>   303.9</td>\n",
       "</tr>\n",
       "<tr>\n",
       "  <th>Date:</th>             <td>Thu, 16 Jan 2020</td> <th>  Prob (F-statistic):</th>  <td>  0.00</td> \n",
       "</tr>\n",
       "<tr>\n",
       "  <th>Time:</th>                 <td>12:50:59</td>     <th>  Log-Likelihood:    </th> <td>  1395.0</td>\n",
       "</tr>\n",
       "<tr>\n",
       "  <th>No. Observations:</th>      <td>  2047</td>      <th>  AIC:               </th> <td>  -2654.</td>\n",
       "</tr>\n",
       "<tr>\n",
       "  <th>Df Residuals:</th>          <td>  1979</td>      <th>  BIC:               </th> <td>  -2272.</td>\n",
       "</tr>\n",
       "<tr>\n",
       "  <th>Df Model:</th>              <td>    67</td>      <th>                     </th>     <td> </td>   \n",
       "</tr>\n",
       "<tr>\n",
       "  <th>Covariance Type:</th>      <td>nonrobust</td>    <th>                     </th>     <td> </td>   \n",
       "</tr>\n",
       "</table>"
      ],
      "text/plain": [
       "<class 'statsmodels.iolib.table.SimpleTable'>"
      ]
     },
     "execution_count": 555,
     "metadata": {},
     "output_type": "execute_result"
    }
   ],
   "source": [
    "ols_X = sm.add_constant(X)\n",
    "model_ols = sm.OLS(y,ols_X).fit()\n",
    "model_ols.summary().tables[0]"
   ]
  },
  {
   "cell_type": "code",
   "execution_count": 556,
   "metadata": {},
   "outputs": [
    {
     "data": {
      "text/plain": [
       "count      2047.000000\n",
       "mean     181250.679144\n",
       "std       76527.737073\n",
       "min       21212.736519\n",
       "25%      127891.368590\n",
       "50%      162072.187295\n",
       "75%      215955.539329\n",
       "max      553349.508408\n",
       "Name: salesprice_hat, dtype: float64"
      ]
     },
     "execution_count": 556,
     "metadata": {},
     "output_type": "execute_result"
    }
   ],
   "source": [
    "new_train[\"salesprice_hat\"] = np.exp(lr.predict(X))\n",
    "new_train[\"salesprice_hat\"].describe()"
   ]
  },
  {
   "cell_type": "code",
   "execution_count": 557,
   "metadata": {},
   "outputs": [
    {
     "data": {
      "text/html": [
       "<div>\n",
       "<style scoped>\n",
       "    .dataframe tbody tr th:only-of-type {\n",
       "        vertical-align: middle;\n",
       "    }\n",
       "\n",
       "    .dataframe tbody tr th {\n",
       "        vertical-align: top;\n",
       "    }\n",
       "\n",
       "    .dataframe thead th {\n",
       "        text-align: right;\n",
       "    }\n",
       "</style>\n",
       "<table border=\"1\" class=\"dataframe\">\n",
       "  <thead>\n",
       "    <tr style=\"text-align: right;\">\n",
       "      <th></th>\n",
       "      <th>saleprice</th>\n",
       "      <th>salesprice_hat</th>\n",
       "      <th>residuals</th>\n",
       "    </tr>\n",
       "  </thead>\n",
       "  <tbody>\n",
       "    <tr>\n",
       "      <th>4</th>\n",
       "      <td>138500</td>\n",
       "      <td>138013.033346</td>\n",
       "      <td>486.966654</td>\n",
       "    </tr>\n",
       "    <tr>\n",
       "      <th>7</th>\n",
       "      <td>142000</td>\n",
       "      <td>140539.094862</td>\n",
       "      <td>1460.905138</td>\n",
       "    </tr>\n",
       "    <tr>\n",
       "      <th>11</th>\n",
       "      <td>183600</td>\n",
       "      <td>190987.074602</td>\n",
       "      <td>7387.074602</td>\n",
       "    </tr>\n",
       "    <tr>\n",
       "      <th>13</th>\n",
       "      <td>200000</td>\n",
       "      <td>201521.621165</td>\n",
       "      <td>1521.621165</td>\n",
       "    </tr>\n",
       "    <tr>\n",
       "      <th>14</th>\n",
       "      <td>193000</td>\n",
       "      <td>200125.122053</td>\n",
       "      <td>7125.122053</td>\n",
       "    </tr>\n",
       "    <tr>\n",
       "      <th>...</th>\n",
       "      <td>...</td>\n",
       "      <td>...</td>\n",
       "      <td>...</td>\n",
       "    </tr>\n",
       "    <tr>\n",
       "      <th>2037</th>\n",
       "      <td>142500</td>\n",
       "      <td>136662.657010</td>\n",
       "      <td>5837.342990</td>\n",
       "    </tr>\n",
       "    <tr>\n",
       "      <th>2039</th>\n",
       "      <td>93900</td>\n",
       "      <td>88979.235614</td>\n",
       "      <td>4920.764386</td>\n",
       "    </tr>\n",
       "    <tr>\n",
       "      <th>2043</th>\n",
       "      <td>128000</td>\n",
       "      <td>124042.987279</td>\n",
       "      <td>3957.012721</td>\n",
       "    </tr>\n",
       "    <tr>\n",
       "      <th>2044</th>\n",
       "      <td>182000</td>\n",
       "      <td>174667.896072</td>\n",
       "      <td>7332.103928</td>\n",
       "    </tr>\n",
       "    <tr>\n",
       "      <th>2050</th>\n",
       "      <td>189000</td>\n",
       "      <td>196668.320073</td>\n",
       "      <td>7668.320073</td>\n",
       "    </tr>\n",
       "  </tbody>\n",
       "</table>\n",
       "<p>1000 rows × 3 columns</p>\n",
       "</div>"
      ],
      "text/plain": [
       "      saleprice  salesprice_hat    residuals\n",
       "4        138500   138013.033346   486.966654\n",
       "7        142000   140539.094862  1460.905138\n",
       "11       183600   190987.074602  7387.074602\n",
       "13       200000   201521.621165  1521.621165\n",
       "14       193000   200125.122053  7125.122053\n",
       "...         ...             ...          ...\n",
       "2037     142500   136662.657010  5837.342990\n",
       "2039      93900    88979.235614  4920.764386\n",
       "2043     128000   124042.987279  3957.012721\n",
       "2044     182000   174667.896072  7332.103928\n",
       "2050     189000   196668.320073  7668.320073\n",
       "\n",
       "[1000 rows x 3 columns]"
      ]
     },
     "execution_count": 557,
     "metadata": {},
     "output_type": "execute_result"
    }
   ],
   "source": [
    "new_train[\"residuals\"] = abs(new_train[\"saleprice\"] - new_train[\"salesprice_hat\"])\n",
    "new_train.loc[new_train[\"residuals\"] < 10_000, [\"saleprice\", \"salesprice_hat\", \"residuals\"]]"
   ]
  },
  {
   "cell_type": "code",
   "execution_count": 558,
   "metadata": {},
   "outputs": [
    {
     "data": {
      "image/png": "[encoded data removed]",
      "text/plain": [
       "<Figure size 360x360 with 1 Axes>"
      ]
     },
     "metadata": {},
     "output_type": "display_data"
    }
   ],
   "source": [
    "#Plotting 9th  LR prediction model\n",
    "plt.figure(figsize=(5,5))\n",
    "\n",
    "y_hat = np.exp(lr.predict(X))\n",
    "\n",
    "# Generate a scatterplot of predicted values versus actual values.\n",
    "plt.scatter(y_hat, new_train[\"saleprice\"], s=5, color='lime', alpha = 0.5)\n",
    "\n",
    "##Absolute \n",
    "sns.lineplot([0, np.max(new_train[\"saleprice\"])], [0, np.max(new_train[\"saleprice\"])], color=\"white\", linewidth=2)\n",
    "\n",
    "# Tweak title and axis labels.\n",
    "plt.xlabel(\"Predicted Values: $\\hat{y}$\", fontsize = 20)\n",
    "plt.ylabel(\"Actual Values: $y$\", fontsize = 20)\n",
    "plt.title('Predicted Values vs. Actual Values', fontsize = 24);"
   ]
  },
  {
   "cell_type": "markdown",
   "metadata": {},
   "source": [
    "KAGGLE"
   ]
  },
  {
   "cell_type": "code",
   "execution_count": 559,
   "metadata": {},
   "outputs": [],
   "source": [
    "###Interaction Terms:"
   ]
  },
  {
   "cell_type": "code",
   "execution_count": 560,
   "metadata": {},
   "outputs": [],
   "source": [
    "kaggle[\"new_bath_beds\"] = kaggle[\"bin_total_baths\"] * kaggle[\"bedroom_abvgr\"]\n",
    "kaggle[\"new_bath_beds_kit\"] = kaggle[\"new_bath_beds\"] * kaggle[\"kitchen_abvgr\"]\n",
    "kaggle[\"new_house_age\"] = kaggle[\"yr_sold\"]  - kaggle[\"year_built\"]\n",
    "kaggle[\"new_age_fireplace\"] = kaggle[\"new_house_age\"] * kaggle[\"fireplaces\"] \n",
    "kaggle[\"new_yr_sold_ordinal\"] = kaggle[\"yr_sold\"]  - kaggle[\"yr_sold\"].min()\n",
    "kaggle[\"new_yr_sold_ord_age\"] = kaggle[\"new_yr_sold_ordinal\"]  * kaggle[\"new_house_age\"]\n",
    "kaggle[\"new_yr_blt_remod_sold\"] = (kaggle[\"year_built\"]/kaggle[\"year_remod/add\"]/kaggle[\"yr_sold\"]) * 100_000\n",
    "kaggle[\"new_lot_frontage_area_yso\"]  = kaggle[\"lot_frontage\"] * kaggle[\"lot_area\"] * kaggle[\"new_yr_sold_ordinal\"]"
   ]
  },
  {
   "cell_type": "code",
   "execution_count": 561,
   "metadata": {},
   "outputs": [
    {
     "data": {
      "text/plain": [
       "['new_bath_beds',\n",
       " 'new_bath_beds_kit',\n",
       " 'new_house_age',\n",
       " 'new_age_fireplace',\n",
       " 'new_yr_sold_ordinal',\n",
       " 'new_yr_sold_ord_age',\n",
       " 'new_yr_blt_remod_sold',\n",
       " 'new_lot_frontage_area_yso']"
      ]
     },
     "execution_count": 561,
     "metadata": {},
     "output_type": "execute_result"
    }
   ],
   "source": [
    "list(kaggle.filter(regex=\"new\").columns)"
   ]
  },
  {
   "cell_type": "code",
   "execution_count": 562,
   "metadata": {},
   "outputs": [],
   "source": [
    "for cols in make_poly:\n",
    "    if cols[0] in kaggle.columns and cols[1] in kaggle.columns:\n",
    "        kaggle[cols[2]] = kaggle[cols[0]] * kaggle[cols[1]]"
   ]
  },
  {
   "cell_type": "code",
   "execution_count": 563,
   "metadata": {},
   "outputs": [],
   "source": [
    "kaggle[new_log_field_names] = kaggle.loc[:, log_sf_fields].apply(np.log)"
   ]
  },
  {
   "cell_type": "code",
   "execution_count": 564,
   "metadata": {},
   "outputs": [],
   "source": [
    "for cols in combined_features:\n",
    "    if cols not in kaggle.columns:\n",
    "        kaggle[cols] = 0"
   ]
  },
  {
   "cell_type": "code",
   "execution_count": 565,
   "metadata": {},
   "outputs": [
    {
     "data": {
      "text/plain": [
       "(878, 87)"
      ]
     },
     "execution_count": 565,
     "metadata": {},
     "output_type": "execute_result"
    }
   ],
   "source": [
    "kaggle[combined_features].shape"
   ]
  },
  {
   "cell_type": "code",
   "execution_count": 566,
   "metadata": {},
   "outputs": [],
   "source": [
    "kaggle_preds = np.exp(lr.predict(kaggle[combined_features]))\n",
    "kaggle_predictions = pd.concat((pd.DataFrame(kaggle[\"Id\"]), pd.DataFrame(kaggle_preds, columns=[\"SalePrice\"])), axis=1)"
   ]
  },
  {
   "cell_type": "code",
   "execution_count": 567,
   "metadata": {},
   "outputs": [
    {
     "data": {
      "text/plain": [
       "82052.20906683228"
      ]
     },
     "execution_count": 567,
     "metadata": {},
     "output_type": "execute_result"
    }
   ],
   "source": [
    "kaggle_predictions[\"SalePrice\"].std()"
   ]
  },
  {
   "cell_type": "code",
   "execution_count": 568,
   "metadata": {},
   "outputs": [
    {
     "data": {
      "text/plain": [
       "count       878.000000\n",
       "mean     180398.065112\n",
       "std       82052.209067\n",
       "min       50489.221314\n",
       "25%      126627.062543\n",
       "50%      158398.506698\n",
       "75%      213659.771378\n",
       "max      761680.550744\n",
       "Name: SalePrice, dtype: float64"
      ]
     },
     "execution_count": 568,
     "metadata": {},
     "output_type": "execute_result"
    }
   ],
   "source": [
    "kaggle_predictions[\"SalePrice\"].describe()"
   ]
  },
  {
   "cell_type": "code",
   "execution_count": 569,
   "metadata": {},
   "outputs": [],
   "source": [
    "kaggle_predictions.to_csv(\"./submissions/10-features-predictions.csv\", index=False)"
   ]
  },
  {
   "cell_type": "code",
   "execution_count": 591,
   "metadata": {},
   "outputs": [],
   "source": [
    "##kaggle : 21072.07275"
   ]
  }
 ],
 "metadata": {
  "kernelspec": {
   "display_name": "Python 3",
   "language": "python",
   "name": "python3"
  },
  "language_info": {
   "codemirror_mode": {
    "name": "ipython",
    "version": 3
   },
   "file_extension": ".py",
   "mimetype": "text/x-python",
   "name": "python",
   "nbconvert_exporter": "python",
   "pygments_lexer": "ipython3",
   "version": "3.7.4"
  }
 },
 "nbformat": 4,
 "nbformat_minor": 2
}
