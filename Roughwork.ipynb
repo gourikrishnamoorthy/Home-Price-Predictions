{
 "cells": [
  {
   "cell_type": "markdown",
   "metadata": {},
   "source": [
    "**Notebook Contents**\n",
    "- [Imports](#Imports)\n",
    "- [Data import](#Read-in-data)\n",
    "- [Data Cleaning](#Clean-Data)\n",
    "- [Categorical Encoding](#Convert-ordinal-and-categorical-data-to-numeric)\n",
    "- [Feature Selection](#Feature-Selection)\n",
    "- [Model pre-processing](#Model-Pre-Processing)\n",
    "- [Modeling](#Modeling)\n",
    "- [Model Evaluation](#Model-Evaluation)\n",
    "- [Make Predicitons](#Make-Predicitons)\n",
    "\n",
    "###can add images and link them"
   ]
  },
  {
   "cell_type": "markdown",
   "metadata": {},
   "source": [
    "### Imports"
   ]
  },
  {
   "cell_type": "code",
   "execution_count": 191,
   "metadata": {},
   "outputs": [],
   "source": [
    "import pandas as pd\n",
    "import numpy as np\n",
    "import matplotlib.pyplot as plt\n",
    "import seaborn as sns\n",
    "from sklearn.linear_model import LinearRegression\n",
    "from sklearn.metrics import mean_squared_error, r2_score, mean_absolute_error\n",
    "from sklearn.model_selection import train_test_split, cross_val_score\n",
    "\n",
    "\n",
    "plt.style.use('dark_background')"
   ]
  },
  {
   "cell_type": "code",
   "execution_count": 192,
   "metadata": {},
   "outputs": [],
   "source": [
    "train = pd.read_csv(\"./datasets/train.csv\")\n",
    "kaggle = pd.read_csv(\"./datasets/test.csv\")"
   ]
  },
  {
   "cell_type": "code",
   "execution_count": 193,
   "metadata": {},
   "outputs": [
    {
     "name": "stdout",
     "output_type": "stream",
     "text": [
      "The training data has 2051 rows and 81 columns.\n",
      "The Kaggle data has 878 rows and 80 columns.\n"
     ]
    }
   ],
   "source": [
    "print(f'The training data has {train.shape[0]} rows and {train.shape[1]} columns.')\n",
    "print(f'The Kaggle data has {kaggle.shape[0]} rows and {kaggle.shape[1]} columns.')"
   ]
  },
  {
   "cell_type": "code",
   "execution_count": 194,
   "metadata": {},
   "outputs": [],
   "source": [
    "train.columns = train.columns.str.replace(\" \", \"_\").str.lower()\n",
    "kaggle.columns = kaggle.columns.str.replace(\" \", \"_\").str.lower()"
   ]
  },
  {
   "cell_type": "code",
   "execution_count": 307,
   "metadata": {},
   "outputs": [],
   "source": [
    "train.rename(columns={\"id\": \"Id\"}, inplace=True)\n",
    "kaggle.rename(columns={\"id\": \"Id\"}, inplace=True)"
   ]
  },
  {
   "cell_type": "markdown",
   "metadata": {},
   "source": [
    "#### Check nulls"
   ]
  },
  {
   "cell_type": "code",
   "execution_count": 196,
   "metadata": {},
   "outputs": [
    {
     "data": {
      "text/plain": [
       "pool_qc         2042\n",
       "misc_feature    1986\n",
       "alley           1911\n",
       "fence           1651\n",
       "fireplace_qu    1000\n",
       "dtype: int64"
      ]
     },
     "execution_count": 196,
     "metadata": {},
     "output_type": "execute_result"
    }
   ],
   "source": [
    "train.isnull().sum()[train.isnull().mean() > 0.2].sort_values(ascending=False)"
   ]
  },
  {
   "cell_type": "markdown",
   "metadata": {},
   "source": [
    "I am checking all the columns that are missing more thna 20 % and replacing them"
   ]
  },
  {
   "cell_type": "code",
   "execution_count": 197,
   "metadata": {},
   "outputs": [],
   "source": [
    "very_miss_vow = train.isnull().sum()[train.isnull().mean() > 0.2].sort_values(ascending=False).index"
   ]
  },
  {
   "cell_type": "code",
   "execution_count": 198,
   "metadata": {},
   "outputs": [],
   "source": [
    "train.loc[:, very_miss_vow] = train.loc[:, very_miss_vow].replace(np.nan, \"NA\")\n",
    "kaggle.loc[:, very_miss_vow] = kaggle.loc[:, very_miss_vow].replace(np.nan, \"NA\")"
   ]
  },
  {
   "cell_type": "markdown",
   "metadata": {},
   "source": [
    "# Clean-Data"
   ]
  },
  {
   "cell_type": "markdown",
   "metadata": {},
   "source": [
    "Check that this method worked"
   ]
  },
  {
   "cell_type": "code",
   "execution_count": 199,
   "metadata": {},
   "outputs": [
    {
     "data": {
      "text/plain": [
       "pool_qc         0\n",
       "misc_feature    0\n",
       "alley           0\n",
       "fence           0\n",
       "fireplace_qu    0\n",
       "dtype: int64"
      ]
     },
     "execution_count": 199,
     "metadata": {},
     "output_type": "execute_result"
    }
   ],
   "source": [
    "train.loc[:, very_miss_vow].isnull().sum()"
   ]
  },
  {
   "cell_type": "markdown",
   "metadata": {},
   "source": [
    "### Convert ordinal and categorical data to numeric"
   ]
  },
  {
   "cell_type": "code",
   "execution_count": 200,
   "metadata": {},
   "outputs": [],
   "source": [
    "cat_replace_dict = {'Ex':5,\n",
    "                    'Gd':4,\n",
    "                    'TA':3,\n",
    "                    'Fa':2,\n",
    "                    'Po':1,\n",
    "                    'NA':0}"
   ]
  },
  {
   "cell_type": "code",
   "execution_count": 201,
   "metadata": {},
   "outputs": [],
   "source": [
    "cat_cols = list(train.columns[train.columns.str.contains('cond')]) + list (train.columns[train.columns.str.contains('qual')])"
   ]
  },
  {
   "cell_type": "code",
   "execution_count": 202,
   "metadata": {},
   "outputs": [
    {
     "data": {
      "text/plain": [
       "['condition_1',\n",
       " 'condition_2',\n",
       " 'overall_cond',\n",
       " 'exter_cond',\n",
       " 'bsmt_cond',\n",
       " 'garage_cond',\n",
       " 'overall_qual',\n",
       " 'exter_qual',\n",
       " 'bsmt_qual',\n",
       " 'low_qual_fin_sf',\n",
       " 'kitchen_qual',\n",
       " 'garage_qual']"
      ]
     },
     "execution_count": 202,
     "metadata": {},
     "output_type": "execute_result"
    }
   ],
   "source": [
    "cat_cols"
   ]
  },
  {
   "cell_type": "code",
   "execution_count": 203,
   "metadata": {},
   "outputs": [],
   "source": [
    "# train.filter(regex=\"cond\")"
   ]
  },
  {
   "cell_type": "code",
   "execution_count": 204,
   "metadata": {},
   "outputs": [],
   "source": [
    "train.loc[:, cat_cols] = train.loc[:, cat_cols].replace(cat_replace_dict)\n",
    "kaggle.loc[:, cat_cols] = kaggle.loc[:, cat_cols].replace(cat_replace_dict)"
   ]
  },
  {
   "cell_type": "code",
   "execution_count": 205,
   "metadata": {},
   "outputs": [
    {
     "data": {
      "text/plain": [
       "condition_1          0\n",
       "condition_2          0\n",
       "overall_cond         0\n",
       "exter_cond           0\n",
       "bsmt_cond           55\n",
       "garage_cond        114\n",
       "overall_qual         0\n",
       "exter_qual           0\n",
       "bsmt_qual           55\n",
       "low_qual_fin_sf      0\n",
       "kitchen_qual         0\n",
       "garage_qual        114\n",
       "dtype: int64"
      ]
     },
     "execution_count": 205,
     "metadata": {},
     "output_type": "execute_result"
    }
   ],
   "source": [
    "train.loc[:, cat_cols].isnull().sum()"
   ]
  },
  {
   "cell_type": "code",
   "execution_count": 206,
   "metadata": {},
   "outputs": [
    {
     "data": {
      "text/plain": [
       "condition_1        0\n",
       "condition_2        0\n",
       "overall_cond       0\n",
       "exter_cond         0\n",
       "bsmt_cond          0\n",
       "garage_cond        0\n",
       "overall_qual       0\n",
       "exter_qual         0\n",
       "bsmt_qual          0\n",
       "low_qual_fin_sf    0\n",
       "kitchen_qual       0\n",
       "garage_qual        0\n",
       "dtype: int64"
      ]
     },
     "execution_count": 206,
     "metadata": {},
     "output_type": "execute_result"
    }
   ],
   "source": [
    "train.loc[:, cat_cols].replace(np.nan, 0).isnull().sum()"
   ]
  },
  {
   "cell_type": "code",
   "execution_count": 207,
   "metadata": {},
   "outputs": [],
   "source": [
    "train.loc[:, cat_cols] = train.loc[:, cat_cols].replace(np.nan, 0)"
   ]
  },
  {
   "cell_type": "code",
   "execution_count": 208,
   "metadata": {},
   "outputs": [],
   "source": [
    "###checking if the values changed correctly without changing the dtypes"
   ]
  },
  {
   "cell_type": "code",
   "execution_count": 209,
   "metadata": {},
   "outputs": [
    {
     "data": {
      "text/plain": [
       "condition_1        object\n",
       "condition_2        object\n",
       "overall_cond        int64\n",
       "exter_cond          int64\n",
       "bsmt_cond           int64\n",
       "garage_cond         int64\n",
       "overall_qual        int64\n",
       "exter_qual          int64\n",
       "bsmt_qual           int64\n",
       "low_qual_fin_sf     int64\n",
       "kitchen_qual        int64\n",
       "garage_qual         int64\n",
       "dtype: object"
      ]
     },
     "execution_count": 209,
     "metadata": {},
     "output_type": "execute_result"
    }
   ],
   "source": [
    "train.loc[:, cat_cols].dtypes"
   ]
  },
  {
   "cell_type": "markdown",
   "metadata": {},
   "source": [
    "### Feature selection"
   ]
  },
  {
   "cell_type": "code",
   "execution_count": 210,
   "metadata": {},
   "outputs": [
    {
     "data": {
      "text/plain": [
       "saleprice          1.000000\n",
       "overall_qual       0.800207\n",
       "exter_qual         0.712146\n",
       "gr_liv_area        0.697038\n",
       "kitchen_qual       0.692336\n",
       "garage_area        0.650270\n",
       "garage_cars        0.648220\n",
       "total_bsmt_sf      0.628925\n",
       "1st_flr_sf         0.618486\n",
       "bsmt_qual          0.612188\n",
       "year_built         0.571849\n",
       "year_remod/add     0.550370\n",
       "full_bath          0.537969\n",
       "garage_yr_blt      0.533922\n",
       "mas_vnr_area       0.512230\n",
       "totrms_abvgrd      0.504014\n",
       "fireplaces         0.471093\n",
       "bsmtfin_sf_1       0.423519\n",
       "lot_frontage       0.341842\n",
       "open_porch_sf      0.333476\n",
       "wood_deck_sf       0.326490\n",
       "lot_area           0.296566\n",
       "garage_qual        0.285281\n",
       "bsmt_full_bath     0.283662\n",
       "half_bath          0.283001\n",
       "garage_cond        0.265021\n",
       "pid                0.255052\n",
       "2nd_flr_sf         0.248452\n",
       "bsmt_cond          0.225075\n",
       "bsmt_unf_sf        0.190210\n",
       "bedroom_abvgr      0.137067\n",
       "enclosed_porch     0.135656\n",
       "screen_porch       0.134581\n",
       "kitchen_abvgr      0.125444\n",
       "overall_cond       0.097019\n",
       "ms_subclass        0.087335\n",
       "Id                 0.051398\n",
       "3ssn_porch         0.048732\n",
       "bsmt_half_bath     0.045328\n",
       "low_qual_fin_sf    0.041594\n",
       "exter_cond         0.036418\n",
       "mo_sold            0.032735\n",
       "pool_area          0.023106\n",
       "bsmtfin_sf_2       0.016255\n",
       "yr_sold            0.015203\n",
       "misc_val           0.007375\n",
       "Name: saleprice, dtype: float64"
      ]
     },
     "execution_count": 210,
     "metadata": {},
     "output_type": "execute_result"
    }
   ],
   "source": [
    "train.corr()[\"saleprice\"].abs().sort_values(ascending=False) "
   ]
  },
  {
   "cell_type": "code",
   "execution_count": 211,
   "metadata": {},
   "outputs": [
    {
     "data": {
      "text/plain": [
       "saleprice         1.000000\n",
       "overall_qual      0.800207\n",
       "exter_qual        0.712146\n",
       "gr_liv_area       0.697038\n",
       "kitchen_qual      0.692336\n",
       "garage_area       0.650270\n",
       "garage_cars       0.648220\n",
       "total_bsmt_sf     0.628925\n",
       "1st_flr_sf        0.618486\n",
       "bsmt_qual         0.612188\n",
       "year_built        0.571849\n",
       "year_remod/add    0.550370\n",
       "full_bath         0.537969\n",
       "garage_yr_blt     0.533922\n",
       "mas_vnr_area      0.512230\n",
       "totrms_abvgrd     0.504014\n",
       "Name: saleprice, dtype: float64"
      ]
     },
     "execution_count": 211,
     "metadata": {},
     "output_type": "execute_result"
    }
   ],
   "source": [
    "train.corr()['saleprice'][train.corr()['saleprice'].abs() > 0.5 ].sort_values(ascending=False)"
   ]
  },
  {
   "cell_type": "code",
   "execution_count": 212,
   "metadata": {},
   "outputs": [
    {
     "data": {
      "image/png": "[encoded data removed]",
      "text/plain": [
       "<Figure size 720x720 with 2 Axes>"
      ]
     },
     "metadata": {},
     "output_type": "display_data"
    }
   ],
   "source": [
    "plt.figure(figsize=(10, 10))\n",
    "sns.heatmap(train.corr()[['saleprice']][train.corr()['saleprice'].abs() > 0.5].sort_values(by='saleprice', ascending=False), annot=True, )\n",
    "plt.ylim(0, 16);"
   ]
  },
  {
   "cell_type": "markdown",
   "metadata": {},
   "source": [
    "### Model Pre-Processing"
   ]
  },
  {
   "cell_type": "code",
   "execution_count": 312,
   "metadata": {},
   "outputs": [
    {
     "data": {
      "text/plain": [
       "['saleprice',\n",
       " 'overall_qual',\n",
       " 'exter_qual',\n",
       " 'gr_liv_area',\n",
       " 'kitchen_qual',\n",
       " 'garage_area',\n",
       " 'garage_cars',\n",
       " 'total_bsmt_sf',\n",
       " '1st_flr_sf',\n",
       " 'bsmt_qual',\n",
       " 'year_built',\n",
       " 'year_remod/add',\n",
       " 'full_bath',\n",
       " 'garage_yr_blt',\n",
       " 'totrms_abvgrd',\n",
       " 'mas_vnr_area']"
      ]
     },
     "execution_count": 312,
     "metadata": {},
     "output_type": "execute_result"
    }
   ],
   "source": [
    "features = list(train.corr()[['saleprice']][train.corr()['saleprice'].abs() >= 0.5].sort_values(by='saleprice', ascending=False).index)\n",
    "# festures = list(train.corr()[['saleprice']].sort_values(by='saleprice', ascending=False).index)\n",
    "features"
   ]
  },
  {
   "cell_type": "markdown",
   "metadata": {},
   "source": [
    "#### Remove our target variable from the list"
   ]
  },
  {
   "cell_type": "code",
   "execution_count": 313,
   "metadata": {},
   "outputs": [],
   "source": [
    "features.remove(\"saleprice\")\n",
    "# train.at[train[\"garage_yr_blt\"].isnull(),\"garage_yr_blt\"] = train[-train[\"garage_yr_blt\"].isnull()][\"garage_yr_blt\"].mode()[0]\n",
    "train.loc[train[\"mas_vnr_type\"].isnull(), [\"mas_vnr_type\", \"mas_vnr_area\"]] = [\"None\", 0]"
   ]
  },
  {
   "cell_type": "code",
   "execution_count": 314,
   "metadata": {},
   "outputs": [],
   "source": [
    "train[features].isnull().sum().sort_values(ascending=False)\n",
    "train.loc[train['garage_area'].isnull() | train['total_bsmt_sf'].isnull(), ['garage_area', 'garage_cars', 'total_bsmt_sf']]\n",
    "train.loc[1327, 'total_bsmt_sf'] = 0\n",
    "train.loc[1712, 'garage_area'] = 0\n",
    "train.loc[1712, 'garage_cars'] = 0"
   ]
  },
  {
   "cell_type": "code",
   "execution_count": 315,
   "metadata": {},
   "outputs": [],
   "source": [
    "def normalize(x):\n",
    "    return x ** 1/15\n",
    "\n",
    "def get_exp(x):\n",
    "    return x ** 15"
   ]
  },
  {
   "cell_type": "code",
   "execution_count": 316,
   "metadata": {},
   "outputs": [],
   "source": [
    "X = train[features]\n",
    "y = train[\"saleprice\"].map(normalize)"
   ]
  },
  {
   "cell_type": "markdown",
   "metadata": {},
   "source": [
    "Train-test split"
   ]
  },
  {
   "cell_type": "code",
   "execution_count": 293,
   "metadata": {},
   "outputs": [],
   "source": [
    "X_train, X_test, y_train, y_test = train_test_split(X, y, random_state=42)"
   ]
  },
  {
   "cell_type": "markdown",
   "metadata": {},
   "source": [
    "### Modelling"
   ]
  },
  {
   "cell_type": "code",
   "execution_count": 294,
   "metadata": {},
   "outputs": [
    {
     "data": {
      "text/plain": [
       "LinearRegression(copy_X=True, fit_intercept=True, n_jobs=None, normalize=False)"
      ]
     },
     "execution_count": 294,
     "metadata": {},
     "output_type": "execute_result"
    }
   ],
   "source": [
    "lr = LinearRegression()\n",
    "lr.fit(X_train, y_train)"
   ]
  },
  {
   "cell_type": "code",
   "execution_count": 295,
   "metadata": {},
   "outputs": [],
   "source": [
    "train_preds = lr.predict(X_train)\n",
    "test_preds = lr.predict(X_test)"
   ]
  },
  {
   "cell_type": "code",
   "execution_count": 296,
   "metadata": {},
   "outputs": [
    {
     "name": "stdout",
     "output_type": "stream",
     "text": [
      "Train MSE: 9359916.930241102\n",
      "Test MSE: 8532505.19279583\n",
      "Model is overfit !!\n"
     ]
    }
   ],
   "source": [
    "train_mse = mean_squared_error(y_train, train_preds)\n",
    "test_mse = mean_squared_error(y_test, test_preds)\n",
    "\n",
    "print('Train MSE: {}'.format(train_mse))\n",
    "print('Test MSE: {}'.format(test_mse))\n",
    "\n",
    "if train_mse > test_mse:\n",
    "    print(\"Model is overfit !!\")"
   ]
  },
  {
   "cell_type": "code",
   "execution_count": 297,
   "metadata": {},
   "outputs": [
    {
     "name": "stdout",
     "output_type": "stream",
     "text": [
      "Train RMSE : 3059.3981320254975\n",
      "Test RMSE : 2921.0452226550397\n"
     ]
    }
   ],
   "source": [
    "train_rmse = mean_squared_error(y_train, train_preds) ** (1/2)\n",
    "test_rmse = mean_squared_error(y_test, test_preds) ** (1/2)\n",
    "\n",
    "print(\"Train RMSE : {}\".format(train_rmse))\n",
    "print(\"Test RMSE : {}\".format(test_rmse))"
   ]
  },
  {
   "cell_type": "code",
   "execution_count": 298,
   "metadata": {},
   "outputs": [
    {
     "name": "stdout",
     "output_type": "stream",
     "text": [
      "Train R-squared: 0.6670132699711582\n",
      "Test R-squared: 0.6873280234684256\n"
     ]
    }
   ],
   "source": [
    "train_r2 = r2_score(y_train, train_preds)\n",
    "test_r2 = r2_score(y_test, test_preds)\n",
    "\n",
    "print(\"Train R-squared: {}\".format(train_r2))\n",
    "print(\"Test R-squared: {}\".format(test_r2))"
   ]
  },
  {
   "cell_type": "markdown",
   "metadata": {},
   "source": [
    "### Cross validation"
   ]
  },
  {
   "cell_type": "code",
   "execution_count": 299,
   "metadata": {},
   "outputs": [
    {
     "data": {
      "text/plain": [
       "array([0.67328048, 0.67709769, 0.67609266, 0.68536557, 0.58889183])"
      ]
     },
     "execution_count": 299,
     "metadata": {},
     "output_type": "execute_result"
    }
   ],
   "source": [
    "cross_val_score(lr, X_train, y_train, cv=5)"
   ]
  },
  {
   "cell_type": "markdown",
   "metadata": {},
   "source": [
    "### Make predictions"
   ]
  },
  {
   "cell_type": "code",
   "execution_count": 225,
   "metadata": {},
   "outputs": [
    {
     "data": {
      "text/plain": [
       "overall_qual       0\n",
       "exter_qual         0\n",
       "gr_liv_area        0\n",
       "kitchen_qual       0\n",
       "garage_area        0\n",
       "garage_cars        0\n",
       "total_bsmt_sf      0\n",
       "1st_flr_sf         0\n",
       "bsmt_qual         25\n",
       "year_built         0\n",
       "year_remod/add     0\n",
       "full_bath          0\n",
       "mas_vnr_area       1\n",
       "totrms_abvgrd      0\n",
       "dtype: int64"
      ]
     },
     "execution_count": 225,
     "metadata": {},
     "output_type": "execute_result"
    }
   ],
   "source": [
    "kaggle[features].isnull().sum()"
   ]
  },
  {
   "cell_type": "code",
   "execution_count": 226,
   "metadata": {},
   "outputs": [],
   "source": [
    "kaggle.loc[: , features] = kaggle.loc[: , features].replace(np.nan, 0)"
   ]
  },
  {
   "cell_type": "code",
   "execution_count": 228,
   "metadata": {},
   "outputs": [],
   "source": [
    "prediction_data = kaggle[features]"
   ]
  },
  {
   "cell_type": "code",
   "execution_count": 241,
   "metadata": {},
   "outputs": [
    {
     "data": {
      "text/plain": [
       "878"
      ]
     },
     "execution_count": 241,
     "metadata": {},
     "output_type": "execute_result"
    }
   ],
   "source": [
    "kaggle_preds = lr.predict(prediction_data)\n",
    "len(kaggle_preds)"
   ]
  },
  {
   "cell_type": "code",
   "execution_count": 244,
   "metadata": {},
   "outputs": [
    {
     "data": {
      "text/plain": [
       "(878, 1)"
      ]
     },
     "execution_count": 244,
     "metadata": {},
     "output_type": "execute_result"
    }
   ],
   "source": [
    "pd.DataFrame(kaggle[\"Id\"]).shape"
   ]
  },
  {
   "cell_type": "code",
   "execution_count": 248,
   "metadata": {},
   "outputs": [],
   "source": [
    "kaggle_predictions = pd.concat((pd.DataFrame(kaggle[\"Id\"]), pd.DataFrame(kaggle_preds, columns=[\"SalePrice\"])), axis=1)"
   ]
  },
  {
   "cell_type": "code",
   "execution_count": 255,
   "metadata": {},
   "outputs": [],
   "source": [
    "kaggle_predictions.to_csv(\"./submissions/1-features-predictions.csv\", index=False)"
   ]
  },
  {
   "cell_type": "code",
   "execution_count": 317,
   "metadata": {},
   "outputs": [
    {
     "data": {
      "text/plain": [
       "179095.90917031016"
      ]
     },
     "execution_count": 317,
     "metadata": {},
     "output_type": "execute_result"
    }
   ],
   "source": [
    "kaggle_predictions[\"SalePrice\"].mean()"
   ]
  },
  {
   "cell_type": "code",
   "execution_count": 256,
   "metadata": {},
   "outputs": [
    {
     "data": {
      "text/plain": [
       "['overall_qual',\n",
       " 'exter_qual',\n",
       " 'gr_liv_area',\n",
       " 'kitchen_qual',\n",
       " 'garage_area',\n",
       " 'garage_cars',\n",
       " 'total_bsmt_sf',\n",
       " '1st_flr_sf',\n",
       " 'bsmt_qual',\n",
       " 'year_built',\n",
       " 'year_remod/add',\n",
       " 'full_bath',\n",
       " 'mas_vnr_area',\n",
       " 'totrms_abvgrd']"
      ]
     },
     "execution_count": 256,
     "metadata": {},
     "output_type": "execute_result"
    }
   ],
   "source": [
    "features"
   ]
  },
  {
   "cell_type": "code",
   "execution_count": null,
   "metadata": {},
   "outputs": [],
   "source": []
  }
 ],
 "metadata": {
  "kernelspec": {
   "display_name": "Python 3",
   "language": "python",
   "name": "python3"
  },
  "language_info": {
   "codemirror_mode": {
    "name": "ipython",
    "version": 3
   },
   "file_extension": ".py",
   "mimetype": "text/x-python",
   "name": "python",
   "nbconvert_exporter": "python",
   "pygments_lexer": "ipython3",
   "version": "3.7.4"
  }
 },
 "nbformat": 4,
 "nbformat_minor": 2
}
